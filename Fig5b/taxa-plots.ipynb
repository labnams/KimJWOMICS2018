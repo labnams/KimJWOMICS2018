{
 "cells": [
  {
   "cell_type": "code",
   "execution_count": 1,
   "metadata": {},
   "outputs": [
    {
     "name": "stderr",
     "output_type": "stream",
     "text": [
      "Warning message:\n",
      "\"package 'tidyverse' was built under R version 3.4.4\"-- Attaching packages --------------------------------------- tidyverse 1.2.1 --\n",
      "√ ggplot2 3.0.0     √ purrr   0.2.5\n",
      "√ tibble  1.4.2     √ dplyr   0.7.5\n",
      "√ tidyr   0.8.1     √ stringr 1.3.0\n",
      "√ readr   1.1.1     √ forcats 0.3.0\n",
      "Warning message:\n",
      "\"package 'ggplot2' was built under R version 3.4.4\"Warning message:\n",
      "\"package 'tidyr' was built under R version 3.4.4\"Warning message:\n",
      "\"package 'purrr' was built under R version 3.4.4\"Warning message:\n",
      "\"package 'dplyr' was built under R version 3.4.4\"-- Conflicts ------------------------------------------ tidyverse_conflicts() --\n",
      "x dplyr::filter() masks stats::filter()\n",
      "x dplyr::lag()    masks stats::lag()\n",
      "\n",
      "Attaching package: 'reshape2'\n",
      "\n",
      "The following object is masked from 'package:tidyr':\n",
      "\n",
      "    smiths\n",
      "\n"
     ]
    }
   ],
   "source": [
    "library(\"tidyverse\")\n",
    "library(\"reshape2\")"
   ]
  },
  {
   "cell_type": "code",
   "execution_count": 2,
   "metadata": {},
   "outputs": [
    {
     "data": {
      "text/html": [
       "<table>\n",
       "<thead><tr><th></th><th scope=col>KHASs</th><th scope=col>HKAs</th></tr></thead>\n",
       "<tbody>\n",
       "\t<tr><th scope=row>k__Archaea;p__Euryarchaeota;c__Methanobacteria;o__Methanobacteriales;f__Methanobacteriaceae;g__Methanobrevibacter</th><td>0           </td><td>3.474310e-04</td></tr>\n",
       "\t<tr><th scope=row>k__Archaea;p__Euryarchaeota;c__Methanobacteria;o__Methanobacteriales;f__Methanobacteriaceae;g__Methanosphaera</th><td>0           </td><td>2.159476e-05</td></tr>\n",
       "\t<tr><th scope=row>k__Archaea;p__Euryarchaeota;c__Thermoplasmata;o__E2;f__Marine group II;g__</th><td>0           </td><td>5.318907e-08</td></tr>\n",
       "\t<tr><th scope=row>k__Archaea;p__Euryarchaeota;c__Thermoplasmata;o__E2;f__TMEG;g__</th><td>0           </td><td>1.063781e-07</td></tr>\n",
       "\t<tr><th scope=row>k__Archaea;p__Euryarchaeota;c__Thermoplasmata;o__E2;f__[Methanomassiliicoccaceae];g__vadinCA11</th><td>0           </td><td>4.787016e-07</td></tr>\n",
       "\t<tr><th scope=row>k__Bacteria;p__Acidobacteria;c__AT-s2-57;o__;f__;g__</th><td>0           </td><td>5.318907e-08</td></tr>\n",
       "</tbody>\n",
       "</table>\n"
      ],
      "text/latex": [
       "\\begin{tabular}{r|ll}\n",
       "  & KHASs & HKAs\\\\\n",
       "\\hline\n",
       "\tk\\_\\_Archaea;p\\_\\_Euryarchaeota;c\\_\\_Methanobacteria;o\\_\\_Methanobacteriales;f\\_\\_Methanobacteriaceae;g\\_\\_Methanobrevibacter & 0            & 3.474310e-04\\\\\n",
       "\tk\\_\\_Archaea;p\\_\\_Euryarchaeota;c\\_\\_Methanobacteria;o\\_\\_Methanobacteriales;f\\_\\_Methanobacteriaceae;g\\_\\_Methanosphaera & 0            & 2.159476e-05\\\\\n",
       "\tk\\_\\_Archaea;p\\_\\_Euryarchaeota;c\\_\\_Thermoplasmata;o\\_\\_E2;f\\_\\_Marine group II;g\\_\\_ & 0            & 5.318907e-08\\\\\n",
       "\tk\\_\\_Archaea;p\\_\\_Euryarchaeota;c\\_\\_Thermoplasmata;o\\_\\_E2;f\\_\\_TMEG;g\\_\\_ & 0            & 1.063781e-07\\\\\n",
       "\tk\\_\\_Archaea;p\\_\\_Euryarchaeota;c\\_\\_Thermoplasmata;o\\_\\_E2;f\\_\\_{[}Methanomassiliicoccaceae{]};g\\_\\_vadinCA11 & 0            & 4.787016e-07\\\\\n",
       "\tk\\_\\_Bacteria;p\\_\\_Acidobacteria;c\\_\\_AT-s2-57;o\\_\\_;f\\_\\_;g\\_\\_ & 0            & 5.318907e-08\\\\\n",
       "\\end{tabular}\n"
      ],
      "text/markdown": [
       "\n",
       "| <!--/--> | KHASs | HKAs | \n",
       "|---|---|---|---|---|---|\n",
       "| k__Archaea;p__Euryarchaeota;c__Methanobacteria;o__Methanobacteriales;f__Methanobacteriaceae;g__Methanobrevibacter | 0            | 3.474310e-04 | \n",
       "| k__Archaea;p__Euryarchaeota;c__Methanobacteria;o__Methanobacteriales;f__Methanobacteriaceae;g__Methanosphaera | 0            | 2.159476e-05 | \n",
       "| k__Archaea;p__Euryarchaeota;c__Thermoplasmata;o__E2;f__Marine group II;g__ | 0            | 5.318907e-08 | \n",
       "| k__Archaea;p__Euryarchaeota;c__Thermoplasmata;o__E2;f__TMEG;g__ | 0            | 1.063781e-07 | \n",
       "| k__Archaea;p__Euryarchaeota;c__Thermoplasmata;o__E2;f__[Methanomassiliicoccaceae];g__vadinCA11 | 0            | 4.787016e-07 | \n",
       "| k__Bacteria;p__Acidobacteria;c__AT-s2-57;o__;f__;g__ | 0            | 5.318907e-08 | \n",
       "\n",
       "\n"
      ],
      "text/plain": [
       "                                                                                                                  KHASs\n",
       "k__Archaea;p__Euryarchaeota;c__Methanobacteria;o__Methanobacteriales;f__Methanobacteriaceae;g__Methanobrevibacter 0    \n",
       "k__Archaea;p__Euryarchaeota;c__Methanobacteria;o__Methanobacteriales;f__Methanobacteriaceae;g__Methanosphaera     0    \n",
       "k__Archaea;p__Euryarchaeota;c__Thermoplasmata;o__E2;f__Marine group II;g__                                        0    \n",
       "k__Archaea;p__Euryarchaeota;c__Thermoplasmata;o__E2;f__TMEG;g__                                                   0    \n",
       "k__Archaea;p__Euryarchaeota;c__Thermoplasmata;o__E2;f__[Methanomassiliicoccaceae];g__vadinCA11                    0    \n",
       "k__Bacteria;p__Acidobacteria;c__AT-s2-57;o__;f__;g__                                                              0    \n",
       "                                                                                                                  HKAs        \n",
       "k__Archaea;p__Euryarchaeota;c__Methanobacteria;o__Methanobacteriales;f__Methanobacteriaceae;g__Methanobrevibacter 3.474310e-04\n",
       "k__Archaea;p__Euryarchaeota;c__Methanobacteria;o__Methanobacteriales;f__Methanobacteriaceae;g__Methanosphaera     2.159476e-05\n",
       "k__Archaea;p__Euryarchaeota;c__Thermoplasmata;o__E2;f__Marine group II;g__                                        5.318907e-08\n",
       "k__Archaea;p__Euryarchaeota;c__Thermoplasmata;o__E2;f__TMEG;g__                                                   1.063781e-07\n",
       "k__Archaea;p__Euryarchaeota;c__Thermoplasmata;o__E2;f__[Methanomassiliicoccaceae];g__vadinCA11                    4.787016e-07\n",
       "k__Bacteria;p__Acidobacteria;c__AT-s2-57;o__;f__;g__                                                              5.318907e-08"
      ]
     },
     "metadata": {},
     "output_type": "display_data"
    }
   ],
   "source": [
    "taxa <- read.delim(\"Description_otu_table_L6.txt\", sep='\\t', row=1)\n",
    "head(taxa)"
   ]
  },
  {
   "cell_type": "code",
   "execution_count": 3,
   "metadata": {},
   "outputs": [
    {
     "data": {
      "text/html": [
       "<ol class=list-inline>\n",
       "\t<li>'k__Archaea;p__Euryarchaeota;c__Methanobacteria;o__Methanobacteriales;f__Methanobacteriaceae;g__Methanobrevibacter'</li>\n",
       "\t<li>'k__Archaea;p__Euryarchaeota;c__Methanobacteria;o__Methanobacteriales;f__Methanobacteriaceae;g__Methanosphaera'</li>\n",
       "\t<li>'k__Archaea;p__Euryarchaeota;c__Thermoplasmata;o__E2;f__Marine group II;g__'</li>\n",
       "\t<li>'k__Archaea;p__Euryarchaeota;c__Thermoplasmata;o__E2;f__TMEG;g__'</li>\n",
       "\t<li>'k__Archaea;p__Euryarchaeota;c__Thermoplasmata;o__E2;f__[Methanomassiliicoccaceae];g__vadinCA11'</li>\n",
       "\t<li>'k__Bacteria;p__Acidobacteria;c__AT-s2-57;o__;f__;g__'</li>\n",
       "</ol>\n"
      ],
      "text/latex": [
       "\\begin{enumerate*}\n",
       "\\item 'k\\_\\_Archaea;p\\_\\_Euryarchaeota;c\\_\\_Methanobacteria;o\\_\\_Methanobacteriales;f\\_\\_Methanobacteriaceae;g\\_\\_Methanobrevibacter'\n",
       "\\item 'k\\_\\_Archaea;p\\_\\_Euryarchaeota;c\\_\\_Methanobacteria;o\\_\\_Methanobacteriales;f\\_\\_Methanobacteriaceae;g\\_\\_Methanosphaera'\n",
       "\\item 'k\\_\\_Archaea;p\\_\\_Euryarchaeota;c\\_\\_Thermoplasmata;o\\_\\_E2;f\\_\\_Marine group II;g\\_\\_'\n",
       "\\item 'k\\_\\_Archaea;p\\_\\_Euryarchaeota;c\\_\\_Thermoplasmata;o\\_\\_E2;f\\_\\_TMEG;g\\_\\_'\n",
       "\\item 'k\\_\\_Archaea;p\\_\\_Euryarchaeota;c\\_\\_Thermoplasmata;o\\_\\_E2;f\\_\\_{[}Methanomassiliicoccaceae{]};g\\_\\_vadinCA11'\n",
       "\\item 'k\\_\\_Bacteria;p\\_\\_Acidobacteria;c\\_\\_AT-s2-57;o\\_\\_;f\\_\\_;g\\_\\_'\n",
       "\\end{enumerate*}\n"
      ],
      "text/markdown": [
       "1. 'k__Archaea;p__Euryarchaeota;c__Methanobacteria;o__Methanobacteriales;f__Methanobacteriaceae;g__Methanobrevibacter'\n",
       "2. 'k__Archaea;p__Euryarchaeota;c__Methanobacteria;o__Methanobacteriales;f__Methanobacteriaceae;g__Methanosphaera'\n",
       "3. 'k__Archaea;p__Euryarchaeota;c__Thermoplasmata;o__E2;f__Marine group II;g__'\n",
       "4. 'k__Archaea;p__Euryarchaeota;c__Thermoplasmata;o__E2;f__TMEG;g__'\n",
       "5. 'k__Archaea;p__Euryarchaeota;c__Thermoplasmata;o__E2;f__[Methanomassiliicoccaceae];g__vadinCA11'\n",
       "6. 'k__Bacteria;p__Acidobacteria;c__AT-s2-57;o__;f__;g__'\n",
       "\n",
       "\n"
      ],
      "text/plain": [
       "[1] \"k__Archaea;p__Euryarchaeota;c__Methanobacteria;o__Methanobacteriales;f__Methanobacteriaceae;g__Methanobrevibacter\"\n",
       "[2] \"k__Archaea;p__Euryarchaeota;c__Methanobacteria;o__Methanobacteriales;f__Methanobacteriaceae;g__Methanosphaera\"    \n",
       "[3] \"k__Archaea;p__Euryarchaeota;c__Thermoplasmata;o__E2;f__Marine group II;g__\"                                       \n",
       "[4] \"k__Archaea;p__Euryarchaeota;c__Thermoplasmata;o__E2;f__TMEG;g__\"                                                  \n",
       "[5] \"k__Archaea;p__Euryarchaeota;c__Thermoplasmata;o__E2;f__[Methanomassiliicoccaceae];g__vadinCA11\"                   \n",
       "[6] \"k__Bacteria;p__Acidobacteria;c__AT-s2-57;o__;f__;g__\"                                                             "
      ]
     },
     "metadata": {},
     "output_type": "display_data"
    }
   ],
   "source": [
    "split <- strsplit(rownames(taxa),\";\")\n",
    "head(rownames(taxa))"
   ]
  },
  {
   "cell_type": "code",
   "execution_count": 4,
   "metadata": {},
   "outputs": [
    {
     "data": {
      "text/html": [
       "<ol>\n",
       "\t<li><ol class=list-inline>\n",
       "\t<li>'k__Archaea'</li>\n",
       "\t<li>'p__Euryarchaeota'</li>\n",
       "\t<li>'c__Methanobacteria'</li>\n",
       "\t<li>'o__Methanobacteriales'</li>\n",
       "\t<li>'f__Methanobacteriaceae'</li>\n",
       "\t<li>'g__Methanobrevibacter'</li>\n",
       "</ol>\n",
       "</li>\n",
       "\t<li><ol class=list-inline>\n",
       "\t<li>'k__Archaea'</li>\n",
       "\t<li>'p__Euryarchaeota'</li>\n",
       "\t<li>'c__Methanobacteria'</li>\n",
       "\t<li>'o__Methanobacteriales'</li>\n",
       "\t<li>'f__Methanobacteriaceae'</li>\n",
       "\t<li>'g__Methanosphaera'</li>\n",
       "</ol>\n",
       "</li>\n",
       "\t<li><ol class=list-inline>\n",
       "\t<li>'k__Archaea'</li>\n",
       "\t<li>'p__Euryarchaeota'</li>\n",
       "\t<li>'c__Thermoplasmata'</li>\n",
       "\t<li>'o__E2'</li>\n",
       "\t<li>'f__Marine group II'</li>\n",
       "\t<li>'g__'</li>\n",
       "</ol>\n",
       "</li>\n",
       "\t<li><ol class=list-inline>\n",
       "\t<li>'k__Archaea'</li>\n",
       "\t<li>'p__Euryarchaeota'</li>\n",
       "\t<li>'c__Thermoplasmata'</li>\n",
       "\t<li>'o__E2'</li>\n",
       "\t<li>'f__TMEG'</li>\n",
       "\t<li>'g__'</li>\n",
       "</ol>\n",
       "</li>\n",
       "\t<li><ol class=list-inline>\n",
       "\t<li>'k__Archaea'</li>\n",
       "\t<li>'p__Euryarchaeota'</li>\n",
       "\t<li>'c__Thermoplasmata'</li>\n",
       "\t<li>'o__E2'</li>\n",
       "\t<li>'f__[Methanomassiliicoccaceae]'</li>\n",
       "\t<li>'g__vadinCA11'</li>\n",
       "</ol>\n",
       "</li>\n",
       "\t<li><ol class=list-inline>\n",
       "\t<li>'k__Bacteria'</li>\n",
       "\t<li>'p__Acidobacteria'</li>\n",
       "\t<li>'c__AT-s2-57'</li>\n",
       "\t<li>'o__'</li>\n",
       "\t<li>'f__'</li>\n",
       "\t<li>'g__'</li>\n",
       "</ol>\n",
       "</li>\n",
       "</ol>\n"
      ],
      "text/latex": [
       "\\begin{enumerate}\n",
       "\\item \\begin{enumerate*}\n",
       "\\item 'k\\_\\_Archaea'\n",
       "\\item 'p\\_\\_Euryarchaeota'\n",
       "\\item 'c\\_\\_Methanobacteria'\n",
       "\\item 'o\\_\\_Methanobacteriales'\n",
       "\\item 'f\\_\\_Methanobacteriaceae'\n",
       "\\item 'g\\_\\_Methanobrevibacter'\n",
       "\\end{enumerate*}\n",
       "\n",
       "\\item \\begin{enumerate*}\n",
       "\\item 'k\\_\\_Archaea'\n",
       "\\item 'p\\_\\_Euryarchaeota'\n",
       "\\item 'c\\_\\_Methanobacteria'\n",
       "\\item 'o\\_\\_Methanobacteriales'\n",
       "\\item 'f\\_\\_Methanobacteriaceae'\n",
       "\\item 'g\\_\\_Methanosphaera'\n",
       "\\end{enumerate*}\n",
       "\n",
       "\\item \\begin{enumerate*}\n",
       "\\item 'k\\_\\_Archaea'\n",
       "\\item 'p\\_\\_Euryarchaeota'\n",
       "\\item 'c\\_\\_Thermoplasmata'\n",
       "\\item 'o\\_\\_E2'\n",
       "\\item 'f\\_\\_Marine group II'\n",
       "\\item 'g\\_\\_'\n",
       "\\end{enumerate*}\n",
       "\n",
       "\\item \\begin{enumerate*}\n",
       "\\item 'k\\_\\_Archaea'\n",
       "\\item 'p\\_\\_Euryarchaeota'\n",
       "\\item 'c\\_\\_Thermoplasmata'\n",
       "\\item 'o\\_\\_E2'\n",
       "\\item 'f\\_\\_TMEG'\n",
       "\\item 'g\\_\\_'\n",
       "\\end{enumerate*}\n",
       "\n",
       "\\item \\begin{enumerate*}\n",
       "\\item 'k\\_\\_Archaea'\n",
       "\\item 'p\\_\\_Euryarchaeota'\n",
       "\\item 'c\\_\\_Thermoplasmata'\n",
       "\\item 'o\\_\\_E2'\n",
       "\\item 'f\\_\\_{[}Methanomassiliicoccaceae{]}'\n",
       "\\item 'g\\_\\_vadinCA11'\n",
       "\\end{enumerate*}\n",
       "\n",
       "\\item \\begin{enumerate*}\n",
       "\\item 'k\\_\\_Bacteria'\n",
       "\\item 'p\\_\\_Acidobacteria'\n",
       "\\item 'c\\_\\_AT-s2-57'\n",
       "\\item 'o\\_\\_'\n",
       "\\item 'f\\_\\_'\n",
       "\\item 'g\\_\\_'\n",
       "\\end{enumerate*}\n",
       "\n",
       "\\end{enumerate}\n"
      ],
      "text/markdown": [
       "1. 1. 'k__Archaea'\n",
       "2. 'p__Euryarchaeota'\n",
       "3. 'c__Methanobacteria'\n",
       "4. 'o__Methanobacteriales'\n",
       "5. 'f__Methanobacteriaceae'\n",
       "6. 'g__Methanobrevibacter'\n",
       "\n",
       "\n",
       "\n",
       "2. 1. 'k__Archaea'\n",
       "2. 'p__Euryarchaeota'\n",
       "3. 'c__Methanobacteria'\n",
       "4. 'o__Methanobacteriales'\n",
       "5. 'f__Methanobacteriaceae'\n",
       "6. 'g__Methanosphaera'\n",
       "\n",
       "\n",
       "\n",
       "3. 1. 'k__Archaea'\n",
       "2. 'p__Euryarchaeota'\n",
       "3. 'c__Thermoplasmata'\n",
       "4. 'o__E2'\n",
       "5. 'f__Marine group II'\n",
       "6. 'g__'\n",
       "\n",
       "\n",
       "\n",
       "4. 1. 'k__Archaea'\n",
       "2. 'p__Euryarchaeota'\n",
       "3. 'c__Thermoplasmata'\n",
       "4. 'o__E2'\n",
       "5. 'f__TMEG'\n",
       "6. 'g__'\n",
       "\n",
       "\n",
       "\n",
       "5. 1. 'k__Archaea'\n",
       "2. 'p__Euryarchaeota'\n",
       "3. 'c__Thermoplasmata'\n",
       "4. 'o__E2'\n",
       "5. 'f__[Methanomassiliicoccaceae]'\n",
       "6. 'g__vadinCA11'\n",
       "\n",
       "\n",
       "\n",
       "6. 1. 'k__Bacteria'\n",
       "2. 'p__Acidobacteria'\n",
       "3. 'c__AT-s2-57'\n",
       "4. 'o__'\n",
       "5. 'f__'\n",
       "6. 'g__'\n",
       "\n",
       "\n",
       "\n",
       "\n",
       "\n"
      ],
      "text/plain": [
       "[[1]]\n",
       "[1] \"k__Archaea\"             \"p__Euryarchaeota\"       \"c__Methanobacteria\"    \n",
       "[4] \"o__Methanobacteriales\"  \"f__Methanobacteriaceae\" \"g__Methanobrevibacter\" \n",
       "\n",
       "[[2]]\n",
       "[1] \"k__Archaea\"             \"p__Euryarchaeota\"       \"c__Methanobacteria\"    \n",
       "[4] \"o__Methanobacteriales\"  \"f__Methanobacteriaceae\" \"g__Methanosphaera\"     \n",
       "\n",
       "[[3]]\n",
       "[1] \"k__Archaea\"         \"p__Euryarchaeota\"   \"c__Thermoplasmata\" \n",
       "[4] \"o__E2\"              \"f__Marine group II\" \"g__\"               \n",
       "\n",
       "[[4]]\n",
       "[1] \"k__Archaea\"        \"p__Euryarchaeota\"  \"c__Thermoplasmata\"\n",
       "[4] \"o__E2\"             \"f__TMEG\"           \"g__\"              \n",
       "\n",
       "[[5]]\n",
       "[1] \"k__Archaea\"                    \"p__Euryarchaeota\"             \n",
       "[3] \"c__Thermoplasmata\"             \"o__E2\"                        \n",
       "[5] \"f__[Methanomassiliicoccaceae]\" \"g__vadinCA11\"                 \n",
       "\n",
       "[[6]]\n",
       "[1] \"k__Bacteria\"      \"p__Acidobacteria\" \"c__AT-s2-57\"      \"o__\"             \n",
       "[5] \"f__\"              \"g__\"             \n"
      ]
     },
     "metadata": {},
     "output_type": "display_data"
    }
   ],
   "source": [
    "head(split)"
   ]
  },
  {
   "cell_type": "code",
   "execution_count": 5,
   "metadata": {},
   "outputs": [],
   "source": [
    "taxaStrings <- sapply(split,function(x) paste(x[1:6],collapse=\";\"))\n",
    "gtaxa <- taxa\n",
    "splitg <- strsplit(rownames(gtaxa),\";\")                               # Split and rejoin on lv7\n",
    "gtaxaStrings <- sapply(splitg,function(x) paste(x[1:6],collapse=\";\")) # level 7 is species, 8 is strain\n",
    "gtaxa <- rowsum(gtaxa,gtaxaStrings)                                    # Collapse by taxonomy name\n",
    "gtaxa <- sweep(gtaxa,2,colSums(gtaxa),'/')\n",
    "gtaxa <- gtaxa[order(rowMeans(gtaxa),decreasing=T),]"
   ]
  },
  {
   "cell_type": "code",
   "execution_count": 6,
   "metadata": {},
   "outputs": [
    {
     "data": {
      "text/html": [
       "<table>\n",
       "<thead><tr><th></th><th scope=col>Bacteroides</th><th scope=col>Prevotella</th><th scope=col></th><th scope=col>Faecalibacterium</th><th scope=col></th><th scope=col></th><th scope=col></th><th scope=col>Lachnospira</th><th scope=col>Parabacteroides</th><th scope=col>Dialister</th></tr></thead>\n",
       "<tbody>\n",
       "\t<tr><th scope=row>KHASs</th><td>0.4296784 </td><td>0.2434657 </td><td>0.04651212</td><td>0.03074503</td><td>0.02022658</td><td>0.05414939</td><td>0.01274290</td><td>0.02292239</td><td>0.01280646</td><td>0.01188490</td></tr>\n",
       "\t<tr><th scope=row>HKAs</th><td>0.2451353 </td><td>0.1611135 </td><td>0.10990261</td><td>0.06539437</td><td>0.06017077</td><td>0.02105090</td><td>0.04430038</td><td>0.01366294</td><td>0.01592098</td><td>0.01404761</td></tr>\n",
       "</tbody>\n",
       "</table>\n"
      ],
      "text/latex": [
       "\\begin{tabular}{r|llllllllll}\n",
       "  & Bacteroides & Prevotella &  & Faecalibacterium &  &  &  & Lachnospira & Parabacteroides & Dialister\\\\\n",
       "\\hline\n",
       "\tKHASs & 0.4296784  & 0.2434657  & 0.04651212 & 0.03074503 & 0.02022658 & 0.05414939 & 0.01274290 & 0.02292239 & 0.01280646 & 0.01188490\\\\\n",
       "\tHKAs & 0.2451353  & 0.1611135  & 0.10990261 & 0.06539437 & 0.06017077 & 0.02105090 & 0.04430038 & 0.01366294 & 0.01592098 & 0.01404761\\\\\n",
       "\\end{tabular}\n"
      ],
      "text/markdown": [
       "\n",
       "| <!--/--> | Bacteroides | Prevotella |  | Faecalibacterium |  |  |  | Lachnospira | Parabacteroides | Dialister | \n",
       "|---|---|\n",
       "| KHASs | 0.4296784  | 0.2434657  | 0.04651212 | 0.03074503 | 0.02022658 | 0.05414939 | 0.01274290 | 0.02292239 | 0.01280646 | 0.01188490 | \n",
       "| HKAs | 0.2451353  | 0.1611135  | 0.10990261 | 0.06539437 | 0.06017077 | 0.02105090 | 0.04430038 | 0.01366294 | 0.01592098 | 0.01404761 | \n",
       "\n",
       "\n"
      ],
      "text/plain": [
       "      Bacteroides Prevotella            Faecalibacterium                      \n",
       "KHASs 0.4296784   0.2434657  0.04651212 0.03074503       0.02022658 0.05414939\n",
       "HKAs  0.2451353   0.1611135  0.10990261 0.06539437       0.06017077 0.02105090\n",
       "                 Lachnospira Parabacteroides Dialister \n",
       "KHASs 0.01274290 0.02292239  0.01280646      0.01188490\n",
       "HKAs  0.04430038 0.01366294  0.01592098      0.01404761"
      ]
     },
     "metadata": {},
     "output_type": "display_data"
    }
   ],
   "source": [
    "filtered.taxa <- gtaxa * 100\n",
    "etc <- gtaxa[gtaxa$KHASs >= 0.01 & gtaxa$HKAs >= 0.01,]\n",
    "#filtered.taxa <- gtaxa * 100\n",
    "#traspose to add to map for later use\n",
    "etc <- t(etc)\n",
    "colnames(etc) <- gsub(\".*;g__?\", \"\", colnames(etc))\n",
    "colnames(etc) <- gsub(\"_\", \"\", colnames(etc))\n",
    "colnames(etc) <- gsub(\";.*\",\"\",colnames(etc))\n",
    "\n",
    "etc"
   ]
  },
  {
   "cell_type": "code",
   "execution_count": 7,
   "metadata": {},
   "outputs": [
    {
     "data": {
      "text/html": [
       "<table>\n",
       "<thead><tr><th></th><th scope=col>Bacteroides</th><th scope=col>Prevotella</th><th scope=col>V3</th><th scope=col>Faecalibacterium</th><th scope=col>V5</th><th scope=col>V6</th><th scope=col>V7</th><th scope=col>Lachnospira</th><th scope=col>Parabacteroides</th><th scope=col>Dialister</th><th scope=col>Others</th></tr></thead>\n",
       "<tbody>\n",
       "\t<tr><th scope=row>KHASs</th><td>0.4296784 </td><td>0.2434657 </td><td>0.04651212</td><td>0.03074503</td><td>0.02022658</td><td>0.05414939</td><td>0.01274290</td><td>0.02292239</td><td>0.01280646</td><td>0.01188490</td><td>0.1148662 </td></tr>\n",
       "\t<tr><th scope=row>HKAs</th><td>0.2451353 </td><td>0.1611135 </td><td>0.10990261</td><td>0.06539437</td><td>0.06017077</td><td>0.02105090</td><td>0.04430038</td><td>0.01366294</td><td>0.01592098</td><td>0.01404761</td><td>0.2493006 </td></tr>\n",
       "</tbody>\n",
       "</table>\n"
      ],
      "text/latex": [
       "\\begin{tabular}{r|lllllllllll}\n",
       "  & Bacteroides & Prevotella & V3 & Faecalibacterium & V5 & V6 & V7 & Lachnospira & Parabacteroides & Dialister & Others\\\\\n",
       "\\hline\n",
       "\tKHASs & 0.4296784  & 0.2434657  & 0.04651212 & 0.03074503 & 0.02022658 & 0.05414939 & 0.01274290 & 0.02292239 & 0.01280646 & 0.01188490 & 0.1148662 \\\\\n",
       "\tHKAs & 0.2451353  & 0.1611135  & 0.10990261 & 0.06539437 & 0.06017077 & 0.02105090 & 0.04430038 & 0.01366294 & 0.01592098 & 0.01404761 & 0.2493006 \\\\\n",
       "\\end{tabular}\n"
      ],
      "text/markdown": [
       "\n",
       "| <!--/--> | Bacteroides | Prevotella | V3 | Faecalibacterium | V5 | V6 | V7 | Lachnospira | Parabacteroides | Dialister | Others | \n",
       "|---|---|\n",
       "| KHASs | 0.4296784  | 0.2434657  | 0.04651212 | 0.03074503 | 0.02022658 | 0.05414939 | 0.01274290 | 0.02292239 | 0.01280646 | 0.01188490 | 0.1148662  | \n",
       "| HKAs | 0.2451353  | 0.1611135  | 0.10990261 | 0.06539437 | 0.06017077 | 0.02105090 | 0.04430038 | 0.01366294 | 0.01592098 | 0.01404761 | 0.2493006  | \n",
       "\n",
       "\n"
      ],
      "text/plain": [
       "      Bacteroides Prevotella V3         Faecalibacterium V5         V6        \n",
       "KHASs 0.4296784   0.2434657  0.04651212 0.03074503       0.02022658 0.05414939\n",
       "HKAs  0.2451353   0.1611135  0.10990261 0.06539437       0.06017077 0.02105090\n",
       "      V7         Lachnospira Parabacteroides Dialister  Others   \n",
       "KHASs 0.01274290 0.02292239  0.01280646      0.01188490 0.1148662\n",
       "HKAs  0.04430038 0.01366294  0.01592098      0.01404761 0.2493006"
      ]
     },
     "metadata": {},
     "output_type": "display_data"
    }
   ],
   "source": [
    "etc <- as.data.frame(etc)\n",
    "etc$Others <-  1- rowSums(etc)\n",
    "etc"
   ]
  },
  {
   "cell_type": "code",
   "execution_count": 8,
   "metadata": {},
   "outputs": [
    {
     "data": {
      "text/html": [
       "<table>\n",
       "<thead><tr><th></th><th scope=col>Bacteroides</th><th scope=col>Prevotella</th><th scope=col>V3</th><th scope=col>Faecalibacterium</th><th scope=col>V5</th><th scope=col>V6</th><th scope=col>V7</th><th scope=col>Lachnospira</th><th scope=col>Parabacteroides</th><th scope=col>Dialister</th><th scope=col>Others</th></tr></thead>\n",
       "<tbody>\n",
       "\t<tr><th scope=row>KHASs</th><td>0.4296784 </td><td>0.2434657 </td><td>0.04651212</td><td>0.03074503</td><td>0.02022658</td><td>0.05414939</td><td>0.0127429 </td><td>0.02292239</td><td>0.01280646</td><td>0.0118849 </td><td>0.1148662 </td></tr>\n",
       "</tbody>\n",
       "</table>\n"
      ],
      "text/latex": [
       "\\begin{tabular}{r|lllllllllll}\n",
       "  & Bacteroides & Prevotella & V3 & Faecalibacterium & V5 & V6 & V7 & Lachnospira & Parabacteroides & Dialister & Others\\\\\n",
       "\\hline\n",
       "\tKHASs & 0.4296784  & 0.2434657  & 0.04651212 & 0.03074503 & 0.02022658 & 0.05414939 & 0.0127429  & 0.02292239 & 0.01280646 & 0.0118849  & 0.1148662 \\\\\n",
       "\\end{tabular}\n"
      ],
      "text/markdown": [
       "\n",
       "| <!--/--> | Bacteroides | Prevotella | V3 | Faecalibacterium | V5 | V6 | V7 | Lachnospira | Parabacteroides | Dialister | Others | \n",
       "|---|\n",
       "| KHASs | 0.4296784  | 0.2434657  | 0.04651212 | 0.03074503 | 0.02022658 | 0.05414939 | 0.0127429  | 0.02292239 | 0.01280646 | 0.0118849  | 0.1148662  | \n",
       "\n",
       "\n"
      ],
      "text/plain": [
       "      Bacteroides Prevotella V3         Faecalibacterium V5         V6        \n",
       "KHASs 0.4296784   0.2434657  0.04651212 0.03074503       0.02022658 0.05414939\n",
       "      V7        Lachnospira Parabacteroides Dialister Others   \n",
       "KHASs 0.0127429 0.02292239  0.01280646      0.0118849 0.1148662"
      ]
     },
     "metadata": {},
     "output_type": "display_data"
    }
   ],
   "source": [
    "etc['KHASs',]"
   ]
  },
  {
   "cell_type": "code",
   "execution_count": 9,
   "metadata": {},
   "outputs": [
    {
     "data": {
      "text/html": [
       "<table>\n",
       "<thead><tr><th></th><th scope=col>Bacteroides</th><th scope=col>Dialister</th><th scope=col>Faecalibacterium</th><th scope=col>Lachnospira</th><th scope=col>Others</th><th scope=col>Parabacteroides</th><th scope=col>Prevotella</th><th scope=col>V3</th><th scope=col>V5</th><th scope=col>V6</th><th scope=col>V7</th></tr></thead>\n",
       "<tbody>\n",
       "\t<tr><th scope=row>KHASs</th><td>0.4296784 </td><td>0.01188490</td><td>0.03074503</td><td>0.02292239</td><td>0.1148662 </td><td>0.01280646</td><td>0.2434657 </td><td>0.04651212</td><td>0.02022658</td><td>0.05414939</td><td>0.01274290</td></tr>\n",
       "\t<tr><th scope=row>HKAs</th><td>0.2451353 </td><td>0.01404761</td><td>0.06539437</td><td>0.01366294</td><td>0.2493006 </td><td>0.01592098</td><td>0.1611135 </td><td>0.10990261</td><td>0.06017077</td><td>0.02105090</td><td>0.04430038</td></tr>\n",
       "</tbody>\n",
       "</table>\n"
      ],
      "text/latex": [
       "\\begin{tabular}{r|lllllllllll}\n",
       "  & Bacteroides & Dialister & Faecalibacterium & Lachnospira & Others & Parabacteroides & Prevotella & V3 & V5 & V6 & V7\\\\\n",
       "\\hline\n",
       "\tKHASs & 0.4296784  & 0.01188490 & 0.03074503 & 0.02292239 & 0.1148662  & 0.01280646 & 0.2434657  & 0.04651212 & 0.02022658 & 0.05414939 & 0.01274290\\\\\n",
       "\tHKAs & 0.2451353  & 0.01404761 & 0.06539437 & 0.01366294 & 0.2493006  & 0.01592098 & 0.1611135  & 0.10990261 & 0.06017077 & 0.02105090 & 0.04430038\\\\\n",
       "\\end{tabular}\n"
      ],
      "text/markdown": [
       "\n",
       "| <!--/--> | Bacteroides | Dialister | Faecalibacterium | Lachnospira | Others | Parabacteroides | Prevotella | V3 | V5 | V6 | V7 | \n",
       "|---|---|\n",
       "| KHASs | 0.4296784  | 0.01188490 | 0.03074503 | 0.02292239 | 0.1148662  | 0.01280646 | 0.2434657  | 0.04651212 | 0.02022658 | 0.05414939 | 0.01274290 | \n",
       "| HKAs | 0.2451353  | 0.01404761 | 0.06539437 | 0.01366294 | 0.2493006  | 0.01592098 | 0.1611135  | 0.10990261 | 0.06017077 | 0.02105090 | 0.04430038 | \n",
       "\n",
       "\n"
      ],
      "text/plain": [
       "      Bacteroides Dialister  Faecalibacterium Lachnospira Others   \n",
       "KHASs 0.4296784   0.01188490 0.03074503       0.02292239  0.1148662\n",
       "HKAs  0.2451353   0.01404761 0.06539437       0.01366294  0.2493006\n",
       "      Parabacteroides Prevotella V3         V5         V6         V7        \n",
       "KHASs 0.01280646      0.2434657  0.04651212 0.02022658 0.05414939 0.01274290\n",
       "HKAs  0.01592098      0.1611135  0.10990261 0.06017077 0.02105090 0.04430038"
      ]
     },
     "metadata": {},
     "output_type": "display_data"
    }
   ],
   "source": [
    "etc[, order(colnames(etc))]"
   ]
  },
  {
   "cell_type": "code",
   "execution_count": 10,
   "metadata": {},
   "outputs": [
    {
     "data": {
      "text/html": [
       "<ol class=list-inline>\n",
       "\t<li>'Bacteroides'</li>\n",
       "\t<li>'Prevotella'</li>\n",
       "\t<li>'V3'</li>\n",
       "\t<li>'Faecalibacterium'</li>\n",
       "\t<li>'V5'</li>\n",
       "\t<li>'V6'</li>\n",
       "\t<li>'V7'</li>\n",
       "\t<li>'Lachnospira'</li>\n",
       "\t<li>'Parabacteroides'</li>\n",
       "\t<li>'Dialister'</li>\n",
       "\t<li>'Others'</li>\n",
       "</ol>\n"
      ],
      "text/latex": [
       "\\begin{enumerate*}\n",
       "\\item 'Bacteroides'\n",
       "\\item 'Prevotella'\n",
       "\\item 'V3'\n",
       "\\item 'Faecalibacterium'\n",
       "\\item 'V5'\n",
       "\\item 'V6'\n",
       "\\item 'V7'\n",
       "\\item 'Lachnospira'\n",
       "\\item 'Parabacteroides'\n",
       "\\item 'Dialister'\n",
       "\\item 'Others'\n",
       "\\end{enumerate*}\n"
      ],
      "text/markdown": [
       "1. 'Bacteroides'\n",
       "2. 'Prevotella'\n",
       "3. 'V3'\n",
       "4. 'Faecalibacterium'\n",
       "5. 'V5'\n",
       "6. 'V6'\n",
       "7. 'V7'\n",
       "8. 'Lachnospira'\n",
       "9. 'Parabacteroides'\n",
       "10. 'Dialister'\n",
       "11. 'Others'\n",
       "\n",
       "\n"
      ],
      "text/plain": [
       " [1] \"Bacteroides\"      \"Prevotella\"       \"V3\"               \"Faecalibacterium\"\n",
       " [5] \"V5\"               \"V6\"               \"V7\"               \"Lachnospira\"     \n",
       " [9] \"Parabacteroides\"  \"Dialister\"        \"Others\"          "
      ]
     },
     "metadata": {},
     "output_type": "display_data"
    },
    {
     "data": {
      "text/html": [
       "<table>\n",
       "<thead><tr><th></th><th scope=col>Bacteroides</th><th scope=col>Prevotella</th><th scope=col>V3</th><th scope=col>Faecalibacterium</th><th scope=col>V5</th><th scope=col>V6</th><th scope=col>V7</th><th scope=col>Lachnospira</th><th scope=col>Parabacteroides</th><th scope=col>Dialister</th><th scope=col>Others</th></tr></thead>\n",
       "<tbody>\n",
       "\t<tr><th scope=row>KHASs</th><td>0.4296784 </td><td>0.2434657 </td><td>0.04651212</td><td>0.03074503</td><td>0.02022658</td><td>0.05414939</td><td>0.01274290</td><td>0.02292239</td><td>0.01280646</td><td>0.01188490</td><td>0.1148662 </td></tr>\n",
       "\t<tr><th scope=row>HKAs</th><td>0.2451353 </td><td>0.1611135 </td><td>0.10990261</td><td>0.06539437</td><td>0.06017077</td><td>0.02105090</td><td>0.04430038</td><td>0.01366294</td><td>0.01592098</td><td>0.01404761</td><td>0.2493006 </td></tr>\n",
       "</tbody>\n",
       "</table>\n"
      ],
      "text/latex": [
       "\\begin{tabular}{r|lllllllllll}\n",
       "  & Bacteroides & Prevotella & V3 & Faecalibacterium & V5 & V6 & V7 & Lachnospira & Parabacteroides & Dialister & Others\\\\\n",
       "\\hline\n",
       "\tKHASs & 0.4296784  & 0.2434657  & 0.04651212 & 0.03074503 & 0.02022658 & 0.05414939 & 0.01274290 & 0.02292239 & 0.01280646 & 0.01188490 & 0.1148662 \\\\\n",
       "\tHKAs & 0.2451353  & 0.1611135  & 0.10990261 & 0.06539437 & 0.06017077 & 0.02105090 & 0.04430038 & 0.01366294 & 0.01592098 & 0.01404761 & 0.2493006 \\\\\n",
       "\\end{tabular}\n"
      ],
      "text/markdown": [
       "\n",
       "| <!--/--> | Bacteroides | Prevotella | V3 | Faecalibacterium | V5 | V6 | V7 | Lachnospira | Parabacteroides | Dialister | Others | \n",
       "|---|---|\n",
       "| KHASs | 0.4296784  | 0.2434657  | 0.04651212 | 0.03074503 | 0.02022658 | 0.05414939 | 0.01274290 | 0.02292239 | 0.01280646 | 0.01188490 | 0.1148662  | \n",
       "| HKAs | 0.2451353  | 0.1611135  | 0.10990261 | 0.06539437 | 0.06017077 | 0.02105090 | 0.04430038 | 0.01366294 | 0.01592098 | 0.01404761 | 0.2493006  | \n",
       "\n",
       "\n"
      ],
      "text/plain": [
       "      Bacteroides Prevotella V3         Faecalibacterium V5         V6        \n",
       "KHASs 0.4296784   0.2434657  0.04651212 0.03074503       0.02022658 0.05414939\n",
       "HKAs  0.2451353   0.1611135  0.10990261 0.06539437       0.06017077 0.02105090\n",
       "      V7         Lachnospira Parabacteroides Dialister  Others   \n",
       "KHASs 0.01274290 0.02292239  0.01280646      0.01188490 0.1148662\n",
       "HKAs  0.04430038 0.01366294  0.01592098      0.01404761 0.2493006"
      ]
     },
     "metadata": {},
     "output_type": "display_data"
    }
   ],
   "source": [
    "tmp <- etc[, order(colnames(etc))]\n",
    "colnames(etc)\n",
    "tmp <- t(etc)\n",
    "head(etc)"
   ]
  },
  {
   "cell_type": "code",
   "execution_count": 11,
   "metadata": {},
   "outputs": [
    {
     "data": {
      "text/html": [
       "<table>\n",
       "<thead><tr><th scope=col>Genus</th><th scope=col>Sample</th><th scope=col>Proportion</th></tr></thead>\n",
       "<tbody>\n",
       "\t<tr><td>Bacteroides     </td><td>KHASs           </td><td>0.42967836      </td></tr>\n",
       "\t<tr><td>Prevotella      </td><td>KHASs           </td><td>0.24346569      </td></tr>\n",
       "\t<tr><td>V3              </td><td>KHASs           </td><td>0.04651212      </td></tr>\n",
       "\t<tr><td>Faecalibacterium</td><td>KHASs           </td><td>0.03074503      </td></tr>\n",
       "\t<tr><td>V5              </td><td>KHASs           </td><td>0.02022658      </td></tr>\n",
       "\t<tr><td>V6              </td><td>KHASs           </td><td>0.05414939      </td></tr>\n",
       "</tbody>\n",
       "</table>\n"
      ],
      "text/latex": [
       "\\begin{tabular}{r|lll}\n",
       " Genus & Sample & Proportion\\\\\n",
       "\\hline\n",
       "\t Bacteroides      & KHASs            & 0.42967836      \\\\\n",
       "\t Prevotella       & KHASs            & 0.24346569      \\\\\n",
       "\t V3               & KHASs            & 0.04651212      \\\\\n",
       "\t Faecalibacterium & KHASs            & 0.03074503      \\\\\n",
       "\t V5               & KHASs            & 0.02022658      \\\\\n",
       "\t V6               & KHASs            & 0.05414939      \\\\\n",
       "\\end{tabular}\n"
      ],
      "text/markdown": [
       "\n",
       "Genus | Sample | Proportion | \n",
       "|---|---|---|---|---|---|\n",
       "| Bacteroides      | KHASs            | 0.42967836       | \n",
       "| Prevotella       | KHASs            | 0.24346569       | \n",
       "| V3               | KHASs            | 0.04651212       | \n",
       "| Faecalibacterium | KHASs            | 0.03074503       | \n",
       "| V5               | KHASs            | 0.02022658       | \n",
       "| V6               | KHASs            | 0.05414939       | \n",
       "\n",
       "\n"
      ],
      "text/plain": [
       "  Genus            Sample Proportion\n",
       "1 Bacteroides      KHASs  0.42967836\n",
       "2 Prevotella       KHASs  0.24346569\n",
       "3 V3               KHASs  0.04651212\n",
       "4 Faecalibacterium KHASs  0.03074503\n",
       "5 V5               KHASs  0.02022658\n",
       "6 V6               KHASs  0.05414939"
      ]
     },
     "metadata": {},
     "output_type": "display_data"
    }
   ],
   "source": [
    "df <- melt(tmp, varnames=c(\"Genus\", \"Sample\"), value.name=\"Proportion\")\n",
    "head(df)"
   ]
  },
  {
   "cell_type": "code",
   "execution_count": 12,
   "metadata": {},
   "outputs": [
    {
     "data": {
      "text/html": [
       "<table>\n",
       "<thead><tr><th></th><th scope=col>KHASs</th><th scope=col>HKAs</th></tr></thead>\n",
       "<tbody>\n",
       "\t<tr><th scope=row>Bacteroides</th><td>0.42967836</td><td>0.24513534</td></tr>\n",
       "\t<tr><th scope=row>Prevotella</th><td>0.24346569</td><td>0.16111352</td></tr>\n",
       "\t<tr><th scope=row>V3</th><td>0.04651212</td><td>0.10990261</td></tr>\n",
       "\t<tr><th scope=row>Faecalibacterium</th><td>0.03074503</td><td>0.06539437</td></tr>\n",
       "\t<tr><th scope=row>V5</th><td>0.02022658</td><td>0.06017077</td></tr>\n",
       "\t<tr><th scope=row>V6</th><td>0.05414939</td><td>0.02105090</td></tr>\n",
       "\t<tr><th scope=row>V7</th><td>0.01274290</td><td>0.04430038</td></tr>\n",
       "\t<tr><th scope=row>Lachnospira</th><td>0.02292239</td><td>0.01366294</td></tr>\n",
       "\t<tr><th scope=row>Parabacteroides</th><td>0.01280646</td><td>0.01592098</td></tr>\n",
       "\t<tr><th scope=row>Dialister</th><td>0.01188490</td><td>0.01404761</td></tr>\n",
       "\t<tr><th scope=row>Others</th><td>0.11486619</td><td>0.24930058</td></tr>\n",
       "</tbody>\n",
       "</table>\n"
      ],
      "text/latex": [
       "\\begin{tabular}{r|ll}\n",
       "  & KHASs & HKAs\\\\\n",
       "\\hline\n",
       "\tBacteroides & 0.42967836 & 0.24513534\\\\\n",
       "\tPrevotella & 0.24346569 & 0.16111352\\\\\n",
       "\tV3 & 0.04651212 & 0.10990261\\\\\n",
       "\tFaecalibacterium & 0.03074503 & 0.06539437\\\\\n",
       "\tV5 & 0.02022658 & 0.06017077\\\\\n",
       "\tV6 & 0.05414939 & 0.02105090\\\\\n",
       "\tV7 & 0.01274290 & 0.04430038\\\\\n",
       "\tLachnospira & 0.02292239 & 0.01366294\\\\\n",
       "\tParabacteroides & 0.01280646 & 0.01592098\\\\\n",
       "\tDialister & 0.01188490 & 0.01404761\\\\\n",
       "\tOthers & 0.11486619 & 0.24930058\\\\\n",
       "\\end{tabular}\n"
      ],
      "text/markdown": [
       "\n",
       "| <!--/--> | KHASs | HKAs | \n",
       "|---|---|---|---|---|---|---|---|---|---|---|\n",
       "| Bacteroides | 0.42967836 | 0.24513534 | \n",
       "| Prevotella | 0.24346569 | 0.16111352 | \n",
       "| V3 | 0.04651212 | 0.10990261 | \n",
       "| Faecalibacterium | 0.03074503 | 0.06539437 | \n",
       "| V5 | 0.02022658 | 0.06017077 | \n",
       "| V6 | 0.05414939 | 0.02105090 | \n",
       "| V7 | 0.01274290 | 0.04430038 | \n",
       "| Lachnospira | 0.02292239 | 0.01366294 | \n",
       "| Parabacteroides | 0.01280646 | 0.01592098 | \n",
       "| Dialister | 0.01188490 | 0.01404761 | \n",
       "| Others | 0.11486619 | 0.24930058 | \n",
       "\n",
       "\n"
      ],
      "text/plain": [
       "                 KHASs      HKAs      \n",
       "Bacteroides      0.42967836 0.24513534\n",
       "Prevotella       0.24346569 0.16111352\n",
       "V3               0.04651212 0.10990261\n",
       "Faecalibacterium 0.03074503 0.06539437\n",
       "V5               0.02022658 0.06017077\n",
       "V6               0.05414939 0.02105090\n",
       "V7               0.01274290 0.04430038\n",
       "Lachnospira      0.02292239 0.01366294\n",
       "Parabacteroides  0.01280646 0.01592098\n",
       "Dialister        0.01188490 0.01404761\n",
       "Others           0.11486619 0.24930058"
      ]
     },
     "metadata": {},
     "output_type": "display_data"
    }
   ],
   "source": [
    "tmp"
   ]
  },
  {
   "cell_type": "code",
   "execution_count": 13,
   "metadata": {},
   "outputs": [
    {
     "data": {
      "text/html": [
       "<ol class=list-inline>\n",
       "\t<li>'Bacteroides'</li>\n",
       "\t<li>'Prevotella'</li>\n",
       "\t<li>'V3'</li>\n",
       "\t<li>'Faecalibacterium'</li>\n",
       "\t<li>'V5'</li>\n",
       "\t<li>'V6'</li>\n",
       "\t<li>'V7'</li>\n",
       "\t<li>'Lachnospira'</li>\n",
       "\t<li>'Parabacteroides'</li>\n",
       "\t<li>'Dialister'</li>\n",
       "\t<li>'Others'</li>\n",
       "</ol>\n"
      ],
      "text/latex": [
       "\\begin{enumerate*}\n",
       "\\item 'Bacteroides'\n",
       "\\item 'Prevotella'\n",
       "\\item 'V3'\n",
       "\\item 'Faecalibacterium'\n",
       "\\item 'V5'\n",
       "\\item 'V6'\n",
       "\\item 'V7'\n",
       "\\item 'Lachnospira'\n",
       "\\item 'Parabacteroides'\n",
       "\\item 'Dialister'\n",
       "\\item 'Others'\n",
       "\\end{enumerate*}\n"
      ],
      "text/markdown": [
       "1. 'Bacteroides'\n",
       "2. 'Prevotella'\n",
       "3. 'V3'\n",
       "4. 'Faecalibacterium'\n",
       "5. 'V5'\n",
       "6. 'V6'\n",
       "7. 'V7'\n",
       "8. 'Lachnospira'\n",
       "9. 'Parabacteroides'\n",
       "10. 'Dialister'\n",
       "11. 'Others'\n",
       "\n",
       "\n"
      ],
      "text/plain": [
       " [1] \"Bacteroides\"      \"Prevotella\"       \"V3\"               \"Faecalibacterium\"\n",
       " [5] \"V5\"               \"V6\"               \"V7\"               \"Lachnospira\"     \n",
       " [9] \"Parabacteroides\"  \"Dialister\"        \"Others\"          "
      ]
     },
     "metadata": {},
     "output_type": "display_data"
    }
   ],
   "source": [
    "taxa <- row.names(tmp)\n",
    "taxa"
   ]
  },
  {
   "cell_type": "code",
   "execution_count": 14,
   "metadata": {},
   "outputs": [
    {
     "data": {
      "text/html": [
       "<table>\n",
       "<thead><tr><th></th><th scope=col>KHASs</th><th scope=col>HKAs</th></tr></thead>\n",
       "<tbody>\n",
       "\t<tr><th scope=row>Bacteroides</th><td>0.42967836</td><td>0.24513534</td></tr>\n",
       "\t<tr><th scope=row>Prevotella</th><td>0.24346569</td><td>0.16111352</td></tr>\n",
       "\t<tr><th scope=row>V3</th><td>0.04651212</td><td>0.10990261</td></tr>\n",
       "\t<tr><th scope=row>Faecalibacterium</th><td>0.03074503</td><td>0.06539437</td></tr>\n",
       "\t<tr><th scope=row>V5</th><td>0.02022658</td><td>0.06017077</td></tr>\n",
       "\t<tr><th scope=row>V6</th><td>0.05414939</td><td>0.02105090</td></tr>\n",
       "\t<tr><th scope=row>V7</th><td>0.01274290</td><td>0.04430038</td></tr>\n",
       "\t<tr><th scope=row>Lachnospira</th><td>0.02292239</td><td>0.01366294</td></tr>\n",
       "\t<tr><th scope=row>Parabacteroides</th><td>0.01280646</td><td>0.01592098</td></tr>\n",
       "\t<tr><th scope=row>Dialister</th><td>0.01188490</td><td>0.01404761</td></tr>\n",
       "\t<tr><th scope=row>Others</th><td>0.11486619</td><td>0.24930058</td></tr>\n",
       "</tbody>\n",
       "</table>\n"
      ],
      "text/latex": [
       "\\begin{tabular}{r|ll}\n",
       "  & KHASs & HKAs\\\\\n",
       "\\hline\n",
       "\tBacteroides & 0.42967836 & 0.24513534\\\\\n",
       "\tPrevotella & 0.24346569 & 0.16111352\\\\\n",
       "\tV3 & 0.04651212 & 0.10990261\\\\\n",
       "\tFaecalibacterium & 0.03074503 & 0.06539437\\\\\n",
       "\tV5 & 0.02022658 & 0.06017077\\\\\n",
       "\tV6 & 0.05414939 & 0.02105090\\\\\n",
       "\tV7 & 0.01274290 & 0.04430038\\\\\n",
       "\tLachnospira & 0.02292239 & 0.01366294\\\\\n",
       "\tParabacteroides & 0.01280646 & 0.01592098\\\\\n",
       "\tDialister & 0.01188490 & 0.01404761\\\\\n",
       "\tOthers & 0.11486619 & 0.24930058\\\\\n",
       "\\end{tabular}\n"
      ],
      "text/markdown": [
       "\n",
       "| <!--/--> | KHASs | HKAs | \n",
       "|---|---|---|---|---|---|---|---|---|---|---|\n",
       "| Bacteroides | 0.42967836 | 0.24513534 | \n",
       "| Prevotella | 0.24346569 | 0.16111352 | \n",
       "| V3 | 0.04651212 | 0.10990261 | \n",
       "| Faecalibacterium | 0.03074503 | 0.06539437 | \n",
       "| V5 | 0.02022658 | 0.06017077 | \n",
       "| V6 | 0.05414939 | 0.02105090 | \n",
       "| V7 | 0.01274290 | 0.04430038 | \n",
       "| Lachnospira | 0.02292239 | 0.01366294 | \n",
       "| Parabacteroides | 0.01280646 | 0.01592098 | \n",
       "| Dialister | 0.01188490 | 0.01404761 | \n",
       "| Others | 0.11486619 | 0.24930058 | \n",
       "\n",
       "\n"
      ],
      "text/plain": [
       "                 KHASs      HKAs      \n",
       "Bacteroides      0.42967836 0.24513534\n",
       "Prevotella       0.24346569 0.16111352\n",
       "V3               0.04651212 0.10990261\n",
       "Faecalibacterium 0.03074503 0.06539437\n",
       "V5               0.02022658 0.06017077\n",
       "V6               0.05414939 0.02105090\n",
       "V7               0.01274290 0.04430038\n",
       "Lachnospira      0.02292239 0.01366294\n",
       "Parabacteroides  0.01280646 0.01592098\n",
       "Dialister        0.01188490 0.01404761\n",
       "Others           0.11486619 0.24930058"
      ]
     },
     "metadata": {},
     "output_type": "display_data"
    }
   ],
   "source": [
    "sth <-as.data.frame(tmp)\n",
    "sth"
   ]
  },
  {
   "cell_type": "code",
   "execution_count": 15,
   "metadata": {},
   "outputs": [
    {
     "data": {
      "text/html": [
       "1"
      ],
      "text/latex": [
       "1"
      ],
      "text/markdown": [
       "1"
      ],
      "text/plain": [
       "[1] 1"
      ]
     },
     "metadata": {},
     "output_type": "display_data"
    }
   ],
   "source": [
    "sum(sth$KHASs)"
   ]
  },
  {
   "cell_type": "code",
   "execution_count": 16,
   "metadata": {},
   "outputs": [
    {
     "data": {
      "text/html": [
       "<table>\n",
       "<thead><tr><th></th><th scope=col>KHASs</th><th scope=col>HKAs</th><th scope=col>taxa</th></tr></thead>\n",
       "<tbody>\n",
       "\t<tr><th scope=row>Bacteroides</th><td>0.42967836      </td><td>0.24513534      </td><td>Bacteroides     </td></tr>\n",
       "\t<tr><th scope=row>Prevotella</th><td>0.24346569      </td><td>0.16111352      </td><td>Prevotella      </td></tr>\n",
       "\t<tr><th scope=row>V3</th><td>0.04651212      </td><td>0.10990261      </td><td>V3              </td></tr>\n",
       "\t<tr><th scope=row>Faecalibacterium</th><td>0.03074503      </td><td>0.06539437      </td><td>Faecalibacterium</td></tr>\n",
       "\t<tr><th scope=row>V5</th><td>0.02022658      </td><td>0.06017077      </td><td>V5              </td></tr>\n",
       "\t<tr><th scope=row>V6</th><td>0.05414939      </td><td>0.02105090      </td><td>V6              </td></tr>\n",
       "\t<tr><th scope=row>V7</th><td>0.01274290      </td><td>0.04430038      </td><td>V7              </td></tr>\n",
       "\t<tr><th scope=row>Lachnospira</th><td>0.02292239      </td><td>0.01366294      </td><td>Lachnospira     </td></tr>\n",
       "\t<tr><th scope=row>Parabacteroides</th><td>0.01280646      </td><td>0.01592098      </td><td>Parabacteroides </td></tr>\n",
       "\t<tr><th scope=row>Dialister</th><td>0.01188490      </td><td>0.01404761      </td><td>Dialister       </td></tr>\n",
       "\t<tr><th scope=row>Others</th><td>0.11486619      </td><td>0.24930058      </td><td>Others          </td></tr>\n",
       "</tbody>\n",
       "</table>\n"
      ],
      "text/latex": [
       "\\begin{tabular}{r|lll}\n",
       "  & KHASs & HKAs & taxa\\\\\n",
       "\\hline\n",
       "\tBacteroides & 0.42967836       & 0.24513534       & Bacteroides     \\\\\n",
       "\tPrevotella & 0.24346569       & 0.16111352       & Prevotella      \\\\\n",
       "\tV3 & 0.04651212       & 0.10990261       & V3              \\\\\n",
       "\tFaecalibacterium & 0.03074503       & 0.06539437       & Faecalibacterium\\\\\n",
       "\tV5 & 0.02022658       & 0.06017077       & V5              \\\\\n",
       "\tV6 & 0.05414939       & 0.02105090       & V6              \\\\\n",
       "\tV7 & 0.01274290       & 0.04430038       & V7              \\\\\n",
       "\tLachnospira & 0.02292239       & 0.01366294       & Lachnospira     \\\\\n",
       "\tParabacteroides & 0.01280646       & 0.01592098       & Parabacteroides \\\\\n",
       "\tDialister & 0.01188490       & 0.01404761       & Dialister       \\\\\n",
       "\tOthers & 0.11486619       & 0.24930058       & Others          \\\\\n",
       "\\end{tabular}\n"
      ],
      "text/markdown": [
       "\n",
       "| <!--/--> | KHASs | HKAs | taxa | \n",
       "|---|---|---|---|---|---|---|---|---|---|---|\n",
       "| Bacteroides | 0.42967836       | 0.24513534       | Bacteroides      | \n",
       "| Prevotella | 0.24346569       | 0.16111352       | Prevotella       | \n",
       "| V3 | 0.04651212       | 0.10990261       | V3               | \n",
       "| Faecalibacterium | 0.03074503       | 0.06539437       | Faecalibacterium | \n",
       "| V5 | 0.02022658       | 0.06017077       | V5               | \n",
       "| V6 | 0.05414939       | 0.02105090       | V6               | \n",
       "| V7 | 0.01274290       | 0.04430038       | V7               | \n",
       "| Lachnospira | 0.02292239       | 0.01366294       | Lachnospira      | \n",
       "| Parabacteroides | 0.01280646       | 0.01592098       | Parabacteroides  | \n",
       "| Dialister | 0.01188490       | 0.01404761       | Dialister        | \n",
       "| Others | 0.11486619       | 0.24930058       | Others           | \n",
       "\n",
       "\n"
      ],
      "text/plain": [
       "                 KHASs      HKAs       taxa            \n",
       "Bacteroides      0.42967836 0.24513534 Bacteroides     \n",
       "Prevotella       0.24346569 0.16111352 Prevotella      \n",
       "V3               0.04651212 0.10990261 V3              \n",
       "Faecalibacterium 0.03074503 0.06539437 Faecalibacterium\n",
       "V5               0.02022658 0.06017077 V5              \n",
       "V6               0.05414939 0.02105090 V6              \n",
       "V7               0.01274290 0.04430038 V7              \n",
       "Lachnospira      0.02292239 0.01366294 Lachnospira     \n",
       "Parabacteroides  0.01280646 0.01592098 Parabacteroides \n",
       "Dialister        0.01188490 0.01404761 Dialister       \n",
       "Others           0.11486619 0.24930058 Others          "
      ]
     },
     "metadata": {},
     "output_type": "display_data"
    }
   ],
   "source": [
    "sth$taxa <- row.names(sth)\n",
    "sth"
   ]
  },
  {
   "cell_type": "code",
   "execution_count": 17,
   "metadata": {},
   "outputs": [
    {
     "data": {
      "text/html": [
       "<table>\n",
       "<thead><tr><th scope=col>KHASs</th><th scope=col>HKAs</th><th scope=col>taxa</th></tr></thead>\n",
       "<tbody>\n",
       "\t<tr><td>0.42967836      </td><td>0.24513534      </td><td>Bacteroides     </td></tr>\n",
       "\t<tr><td>0.24346569      </td><td>0.16111352      </td><td>Prevotella      </td></tr>\n",
       "\t<tr><td>0.04651212      </td><td>0.10990261      </td><td>V3              </td></tr>\n",
       "\t<tr><td>0.03074503      </td><td>0.06539437      </td><td>Faecalibacterium</td></tr>\n",
       "\t<tr><td>0.02022658      </td><td>0.06017077      </td><td>V5              </td></tr>\n",
       "\t<tr><td>0.05414939      </td><td>0.02105090      </td><td>V6              </td></tr>\n",
       "\t<tr><td>0.01274290      </td><td>0.04430038      </td><td>V7              </td></tr>\n",
       "\t<tr><td>0.02292239      </td><td>0.01366294      </td><td>Lachnospira     </td></tr>\n",
       "\t<tr><td>0.01280646      </td><td>0.01592098      </td><td>Parabacteroides </td></tr>\n",
       "\t<tr><td>0.01188490      </td><td>0.01404761      </td><td>Dialister       </td></tr>\n",
       "\t<tr><td>0.11486619      </td><td>0.24930058      </td><td>Others          </td></tr>\n",
       "</tbody>\n",
       "</table>\n"
      ],
      "text/latex": [
       "\\begin{tabular}{r|lll}\n",
       " KHASs & HKAs & taxa\\\\\n",
       "\\hline\n",
       "\t 0.42967836       & 0.24513534       & Bacteroides     \\\\\n",
       "\t 0.24346569       & 0.16111352       & Prevotella      \\\\\n",
       "\t 0.04651212       & 0.10990261       & V3              \\\\\n",
       "\t 0.03074503       & 0.06539437       & Faecalibacterium\\\\\n",
       "\t 0.02022658       & 0.06017077       & V5              \\\\\n",
       "\t 0.05414939       & 0.02105090       & V6              \\\\\n",
       "\t 0.01274290       & 0.04430038       & V7              \\\\\n",
       "\t 0.02292239       & 0.01366294       & Lachnospira     \\\\\n",
       "\t 0.01280646       & 0.01592098       & Parabacteroides \\\\\n",
       "\t 0.01188490       & 0.01404761       & Dialister       \\\\\n",
       "\t 0.11486619       & 0.24930058       & Others          \\\\\n",
       "\\end{tabular}\n"
      ],
      "text/markdown": [
       "\n",
       "KHASs | HKAs | taxa | \n",
       "|---|---|---|---|---|---|---|---|---|---|---|\n",
       "| 0.42967836       | 0.24513534       | Bacteroides      | \n",
       "| 0.24346569       | 0.16111352       | Prevotella       | \n",
       "| 0.04651212       | 0.10990261       | V3               | \n",
       "| 0.03074503       | 0.06539437       | Faecalibacterium | \n",
       "| 0.02022658       | 0.06017077       | V5               | \n",
       "| 0.05414939       | 0.02105090       | V6               | \n",
       "| 0.01274290       | 0.04430038       | V7               | \n",
       "| 0.02292239       | 0.01366294       | Lachnospira      | \n",
       "| 0.01280646       | 0.01592098       | Parabacteroides  | \n",
       "| 0.01188490       | 0.01404761       | Dialister        | \n",
       "| 0.11486619       | 0.24930058       | Others           | \n",
       "\n",
       "\n"
      ],
      "text/plain": [
       "   KHASs      HKAs       taxa            \n",
       "1  0.42967836 0.24513534 Bacteroides     \n",
       "2  0.24346569 0.16111352 Prevotella      \n",
       "3  0.04651212 0.10990261 V3              \n",
       "4  0.03074503 0.06539437 Faecalibacterium\n",
       "5  0.02022658 0.06017077 V5              \n",
       "6  0.05414939 0.02105090 V6              \n",
       "7  0.01274290 0.04430038 V7              \n",
       "8  0.02292239 0.01366294 Lachnospira     \n",
       "9  0.01280646 0.01592098 Parabacteroides \n",
       "10 0.01188490 0.01404761 Dialister       \n",
       "11 0.11486619 0.24930058 Others          "
      ]
     },
     "metadata": {},
     "output_type": "display_data"
    }
   ],
   "source": [
    "row.names(sth) <- NULL\n",
    "sth"
   ]
  },
  {
   "cell_type": "code",
   "execution_count": 18,
   "metadata": {},
   "outputs": [
    {
     "name": "stderr",
     "output_type": "stream",
     "text": [
      "Warning message:\n",
      "\"package 'bindrcpp' was built under R version 3.4.4\""
     ]
    },
    {
     "data": {
      "text/html": [
       "<table>\n",
       "<thead><tr><th scope=col>KHASs</th><th scope=col>HKAs</th><th scope=col>taxa</th></tr></thead>\n",
       "<tbody>\n",
       "\t<tr><td>0.04651212</td><td>0.10990261</td><td>V3        </td></tr>\n",
       "\t<tr><td>0.02022658</td><td>0.06017077</td><td>V5        </td></tr>\n",
       "\t<tr><td>0.05414939</td><td>0.02105090</td><td>V6        </td></tr>\n",
       "\t<tr><td>0.01274290</td><td>0.04430038</td><td>V7        </td></tr>\n",
       "\t<tr><td>0.11486619</td><td>0.24930058</td><td>Others    </td></tr>\n",
       "</tbody>\n",
       "</table>\n"
      ],
      "text/latex": [
       "\\begin{tabular}{r|lll}\n",
       " KHASs & HKAs & taxa\\\\\n",
       "\\hline\n",
       "\t 0.04651212 & 0.10990261 & V3        \\\\\n",
       "\t 0.02022658 & 0.06017077 & V5        \\\\\n",
       "\t 0.05414939 & 0.02105090 & V6        \\\\\n",
       "\t 0.01274290 & 0.04430038 & V7        \\\\\n",
       "\t 0.11486619 & 0.24930058 & Others    \\\\\n",
       "\\end{tabular}\n"
      ],
      "text/markdown": [
       "\n",
       "KHASs | HKAs | taxa | \n",
       "|---|---|---|---|---|\n",
       "| 0.04651212 | 0.10990261 | V3         | \n",
       "| 0.02022658 | 0.06017077 | V5         | \n",
       "| 0.05414939 | 0.02105090 | V6         | \n",
       "| 0.01274290 | 0.04430038 | V7         | \n",
       "| 0.11486619 | 0.24930058 | Others     | \n",
       "\n",
       "\n"
      ],
      "text/plain": [
       "  KHASs      HKAs       taxa  \n",
       "1 0.04651212 0.10990261 V3    \n",
       "2 0.02022658 0.06017077 V5    \n",
       "3 0.05414939 0.02105090 V6    \n",
       "4 0.01274290 0.04430038 V7    \n",
       "5 0.11486619 0.24930058 Others"
      ]
     },
     "metadata": {},
     "output_type": "display_data"
    }
   ],
   "source": [
    "sth %>% filter(taxa %in% c(\"V3\", \"V5\", \"V6\", \"V7\", \"Others\"))"
   ]
  },
  {
   "cell_type": "code",
   "execution_count": 19,
   "metadata": {},
   "outputs": [
    {
     "data": {
      "text/html": [
       "<table>\n",
       "<thead><tr><th scope=col>KHASs</th><th scope=col>HKAs</th></tr></thead>\n",
       "<tbody>\n",
       "\t<tr><td>0.2484972</td><td>0.4847252</td></tr>\n",
       "</tbody>\n",
       "</table>\n"
      ],
      "text/latex": [
       "\\begin{tabular}{r|ll}\n",
       " KHASs & HKAs\\\\\n",
       "\\hline\n",
       "\t 0.2484972 & 0.4847252\\\\\n",
       "\\end{tabular}\n"
      ],
      "text/markdown": [
       "\n",
       "KHASs | HKAs | \n",
       "|---|\n",
       "| 0.2484972 | 0.4847252 | \n",
       "\n",
       "\n"
      ],
      "text/plain": [
       "  KHASs     HKAs     \n",
       "1 0.2484972 0.4847252"
      ]
     },
     "metadata": {},
     "output_type": "display_data"
    }
   ],
   "source": [
    "sth %>% filter(taxa %in% c(\"V3\", \"V5\", \"V6\", \"V7\", \"Others\")) %>% select(-taxa) %>% summarise_all(funs(sum))"
   ]
  },
  {
   "cell_type": "code",
   "execution_count": 20,
   "metadata": {},
   "outputs": [
    {
     "data": {
      "text/html": [
       "<table>\n",
       "<thead><tr><th scope=col>KHASs</th><th scope=col>HKAs</th><th scope=col>taxa</th></tr></thead>\n",
       "<tbody>\n",
       "\t<tr><td>0.2484972</td><td>0.4847252</td><td>Others   </td></tr>\n",
       "</tbody>\n",
       "</table>\n"
      ],
      "text/latex": [
       "\\begin{tabular}{r|lll}\n",
       " KHASs & HKAs & taxa\\\\\n",
       "\\hline\n",
       "\t 0.2484972 & 0.4847252 & Others   \\\\\n",
       "\\end{tabular}\n"
      ],
      "text/markdown": [
       "\n",
       "KHASs | HKAs | taxa | \n",
       "|---|\n",
       "| 0.2484972 | 0.4847252 | Others    | \n",
       "\n",
       "\n"
      ],
      "text/plain": [
       "  KHASs     HKAs      taxa  \n",
       "1 0.2484972 0.4847252 Others"
      ]
     },
     "metadata": {},
     "output_type": "display_data"
    }
   ],
   "source": [
    "others <- sth %>% filter(taxa %in% c(\"V3\", \"V5\", \"V6\", \"V7\", \"Others\")) %>% select(-taxa) %>% summarise_all(funs(sum))\n",
    "others$taxa <- \"Others\"\n",
    "others"
   ]
  },
  {
   "cell_type": "code",
   "execution_count": 21,
   "metadata": {},
   "outputs": [
    {
     "data": {
      "text/html": [
       "<table>\n",
       "<thead><tr><th scope=col>KHASs</th><th scope=col>HKAs</th><th scope=col>taxa</th></tr></thead>\n",
       "<tbody>\n",
       "\t<tr><td>0.42967836      </td><td>0.24513534      </td><td>Bacteroides     </td></tr>\n",
       "\t<tr><td>0.24346569      </td><td>0.16111352      </td><td>Prevotella      </td></tr>\n",
       "\t<tr><td>0.03074503      </td><td>0.06539437      </td><td>Faecalibacterium</td></tr>\n",
       "\t<tr><td>0.02292239      </td><td>0.01366294      </td><td>Lachnospira     </td></tr>\n",
       "\t<tr><td>0.01280646      </td><td>0.01592098      </td><td>Parabacteroides </td></tr>\n",
       "\t<tr><td>0.01188490      </td><td>0.01404761      </td><td>Dialister       </td></tr>\n",
       "</tbody>\n",
       "</table>\n"
      ],
      "text/latex": [
       "\\begin{tabular}{r|lll}\n",
       " KHASs & HKAs & taxa\\\\\n",
       "\\hline\n",
       "\t 0.42967836       & 0.24513534       & Bacteroides     \\\\\n",
       "\t 0.24346569       & 0.16111352       & Prevotella      \\\\\n",
       "\t 0.03074503       & 0.06539437       & Faecalibacterium\\\\\n",
       "\t 0.02292239       & 0.01366294       & Lachnospira     \\\\\n",
       "\t 0.01280646       & 0.01592098       & Parabacteroides \\\\\n",
       "\t 0.01188490       & 0.01404761       & Dialister       \\\\\n",
       "\\end{tabular}\n"
      ],
      "text/markdown": [
       "\n",
       "KHASs | HKAs | taxa | \n",
       "|---|---|---|---|---|---|\n",
       "| 0.42967836       | 0.24513534       | Bacteroides      | \n",
       "| 0.24346569       | 0.16111352       | Prevotella       | \n",
       "| 0.03074503       | 0.06539437       | Faecalibacterium | \n",
       "| 0.02292239       | 0.01366294       | Lachnospira      | \n",
       "| 0.01280646       | 0.01592098       | Parabacteroides  | \n",
       "| 0.01188490       | 0.01404761       | Dialister        | \n",
       "\n",
       "\n"
      ],
      "text/plain": [
       "  KHASs      HKAs       taxa            \n",
       "1 0.42967836 0.24513534 Bacteroides     \n",
       "2 0.24346569 0.16111352 Prevotella      \n",
       "3 0.03074503 0.06539437 Faecalibacterium\n",
       "4 0.02292239 0.01366294 Lachnospira     \n",
       "5 0.01280646 0.01592098 Parabacteroides \n",
       "6 0.01188490 0.01404761 Dialister       "
      ]
     },
     "metadata": {},
     "output_type": "display_data"
    }
   ],
   "source": [
    "mid <- sth %>% filter(!taxa %in% c(\"V3\", \"V5\", \"V6\", \"V7\", \"Others\")) \n",
    "mid"
   ]
  },
  {
   "cell_type": "code",
   "execution_count": 22,
   "metadata": {},
   "outputs": [
    {
     "data": {
      "text/html": [
       "<table>\n",
       "<thead><tr><th scope=col>KHASs</th><th scope=col>HKAs</th><th scope=col>taxa</th></tr></thead>\n",
       "<tbody>\n",
       "\t<tr><td>0.42967836      </td><td>0.24513534      </td><td>Bacteroides     </td></tr>\n",
       "\t<tr><td>0.24346569      </td><td>0.16111352      </td><td>Prevotella      </td></tr>\n",
       "\t<tr><td>0.03074503      </td><td>0.06539437      </td><td>Faecalibacterium</td></tr>\n",
       "\t<tr><td>0.02292239      </td><td>0.01366294      </td><td>Lachnospira     </td></tr>\n",
       "\t<tr><td>0.01280646      </td><td>0.01592098      </td><td>Parabacteroides </td></tr>\n",
       "\t<tr><td>0.01188490      </td><td>0.01404761      </td><td>Dialister       </td></tr>\n",
       "\t<tr><td>0.24849717      </td><td>0.48472524      </td><td>Others          </td></tr>\n",
       "</tbody>\n",
       "</table>\n"
      ],
      "text/latex": [
       "\\begin{tabular}{r|lll}\n",
       " KHASs & HKAs & taxa\\\\\n",
       "\\hline\n",
       "\t 0.42967836       & 0.24513534       & Bacteroides     \\\\\n",
       "\t 0.24346569       & 0.16111352       & Prevotella      \\\\\n",
       "\t 0.03074503       & 0.06539437       & Faecalibacterium\\\\\n",
       "\t 0.02292239       & 0.01366294       & Lachnospira     \\\\\n",
       "\t 0.01280646       & 0.01592098       & Parabacteroides \\\\\n",
       "\t 0.01188490       & 0.01404761       & Dialister       \\\\\n",
       "\t 0.24849717       & 0.48472524       & Others          \\\\\n",
       "\\end{tabular}\n"
      ],
      "text/markdown": [
       "\n",
       "KHASs | HKAs | taxa | \n",
       "|---|---|---|---|---|---|---|\n",
       "| 0.42967836       | 0.24513534       | Bacteroides      | \n",
       "| 0.24346569       | 0.16111352       | Prevotella       | \n",
       "| 0.03074503       | 0.06539437       | Faecalibacterium | \n",
       "| 0.02292239       | 0.01366294       | Lachnospira      | \n",
       "| 0.01280646       | 0.01592098       | Parabacteroides  | \n",
       "| 0.01188490       | 0.01404761       | Dialister        | \n",
       "| 0.24849717       | 0.48472524       | Others           | \n",
       "\n",
       "\n"
      ],
      "text/plain": [
       "  KHASs      HKAs       taxa            \n",
       "1 0.42967836 0.24513534 Bacteroides     \n",
       "2 0.24346569 0.16111352 Prevotella      \n",
       "3 0.03074503 0.06539437 Faecalibacterium\n",
       "4 0.02292239 0.01366294 Lachnospira     \n",
       "5 0.01280646 0.01592098 Parabacteroides \n",
       "6 0.01188490 0.01404761 Dialister       \n",
       "7 0.24849717 0.48472524 Others          "
      ]
     },
     "metadata": {},
     "output_type": "display_data"
    }
   ],
   "source": [
    "final <- rbind(mid, others)\n",
    "final"
   ]
  },
  {
   "cell_type": "code",
   "execution_count": 23,
   "metadata": {},
   "outputs": [
    {
     "data": {
      "text/html": [
       "<table>\n",
       "<thead><tr><th scope=col>KHASs</th><th scope=col>HKAs</th></tr></thead>\n",
       "<tbody>\n",
       "\t<tr><td>1</td><td>1</td></tr>\n",
       "</tbody>\n",
       "</table>\n"
      ],
      "text/latex": [
       "\\begin{tabular}{r|ll}\n",
       " KHASs & HKAs\\\\\n",
       "\\hline\n",
       "\t 1 & 1\\\\\n",
       "\\end{tabular}\n"
      ],
      "text/markdown": [
       "\n",
       "KHASs | HKAs | \n",
       "|---|\n",
       "| 1 | 1 | \n",
       "\n",
       "\n"
      ],
      "text/plain": [
       "  KHASs HKAs\n",
       "1 1     1   "
      ]
     },
     "metadata": {},
     "output_type": "display_data"
    }
   ],
   "source": [
    "final %>% select(-taxa) %>% summarise_all(sum)"
   ]
  },
  {
   "cell_type": "code",
   "execution_count": 24,
   "metadata": {},
   "outputs": [
    {
     "data": {
      "text/html": [
       "<table>\n",
       "<thead><tr><th scope=col>KHASs</th><th scope=col>HKAs</th><th scope=col>taxa</th></tr></thead>\n",
       "<tbody>\n",
       "\t<tr><td>0.42967836      </td><td>0.24513534      </td><td>Bacteroides     </td></tr>\n",
       "\t<tr><td>0.24346569      </td><td>0.16111352      </td><td>Prevotella      </td></tr>\n",
       "\t<tr><td>0.03074503      </td><td>0.06539437      </td><td>Faecalibacterium</td></tr>\n",
       "\t<tr><td>0.02292239      </td><td>0.01366294      </td><td>Lachnospira     </td></tr>\n",
       "\t<tr><td>0.01280646      </td><td>0.01592098      </td><td>Parabacteroides </td></tr>\n",
       "\t<tr><td>0.01188490      </td><td>0.01404761      </td><td>Dialister       </td></tr>\n",
       "\t<tr><td>0.24849717      </td><td>0.48472524      </td><td>Others          </td></tr>\n",
       "</tbody>\n",
       "</table>\n"
      ],
      "text/latex": [
       "\\begin{tabular}{r|lll}\n",
       " KHASs & HKAs & taxa\\\\\n",
       "\\hline\n",
       "\t 0.42967836       & 0.24513534       & Bacteroides     \\\\\n",
       "\t 0.24346569       & 0.16111352       & Prevotella      \\\\\n",
       "\t 0.03074503       & 0.06539437       & Faecalibacterium\\\\\n",
       "\t 0.02292239       & 0.01366294       & Lachnospira     \\\\\n",
       "\t 0.01280646       & 0.01592098       & Parabacteroides \\\\\n",
       "\t 0.01188490       & 0.01404761       & Dialister       \\\\\n",
       "\t 0.24849717       & 0.48472524       & Others          \\\\\n",
       "\\end{tabular}\n"
      ],
      "text/markdown": [
       "\n",
       "KHASs | HKAs | taxa | \n",
       "|---|---|---|---|---|---|---|\n",
       "| 0.42967836       | 0.24513534       | Bacteroides      | \n",
       "| 0.24346569       | 0.16111352       | Prevotella       | \n",
       "| 0.03074503       | 0.06539437       | Faecalibacterium | \n",
       "| 0.02292239       | 0.01366294       | Lachnospira      | \n",
       "| 0.01280646       | 0.01592098       | Parabacteroides  | \n",
       "| 0.01188490       | 0.01404761       | Dialister        | \n",
       "| 0.24849717       | 0.48472524       | Others           | \n",
       "\n",
       "\n"
      ],
      "text/plain": [
       "  KHASs      HKAs       taxa            \n",
       "1 0.42967836 0.24513534 Bacteroides     \n",
       "2 0.24346569 0.16111352 Prevotella      \n",
       "3 0.03074503 0.06539437 Faecalibacterium\n",
       "4 0.02292239 0.01366294 Lachnospira     \n",
       "5 0.01280646 0.01592098 Parabacteroides \n",
       "6 0.01188490 0.01404761 Dialister       \n",
       "7 0.24849717 0.48472524 Others          "
      ]
     },
     "metadata": {},
     "output_type": "display_data"
    }
   ],
   "source": [
    "final"
   ]
  },
  {
   "cell_type": "code",
   "execution_count": 25,
   "metadata": {},
   "outputs": [
    {
     "data": {
      "text/html": [
       "<table>\n",
       "<thead><tr><th scope=col>KHASs</th><th scope=col>HKAs</th><th scope=col>taxa</th></tr></thead>\n",
       "<tbody>\n",
       "\t<tr><td>42.97           </td><td>24.51           </td><td>Bacteroides     </td></tr>\n",
       "\t<tr><td>24.35           </td><td>16.11           </td><td>Prevotella      </td></tr>\n",
       "\t<tr><td> 3.07           </td><td> 6.54           </td><td>Faecalibacterium</td></tr>\n",
       "\t<tr><td> 2.29           </td><td> 1.37           </td><td>Lachnospira     </td></tr>\n",
       "\t<tr><td> 1.28           </td><td> 1.59           </td><td>Parabacteroides </td></tr>\n",
       "\t<tr><td> 1.19           </td><td> 1.40           </td><td>Dialister       </td></tr>\n",
       "\t<tr><td>24.85           </td><td>48.47           </td><td>Others          </td></tr>\n",
       "</tbody>\n",
       "</table>\n"
      ],
      "text/latex": [
       "\\begin{tabular}{r|lll}\n",
       " KHASs & HKAs & taxa\\\\\n",
       "\\hline\n",
       "\t 42.97            & 24.51            & Bacteroides     \\\\\n",
       "\t 24.35            & 16.11            & Prevotella      \\\\\n",
       "\t  3.07            &  6.54            & Faecalibacterium\\\\\n",
       "\t  2.29            &  1.37            & Lachnospira     \\\\\n",
       "\t  1.28            &  1.59            & Parabacteroides \\\\\n",
       "\t  1.19            &  1.40            & Dialister       \\\\\n",
       "\t 24.85            & 48.47            & Others          \\\\\n",
       "\\end{tabular}\n"
      ],
      "text/markdown": [
       "\n",
       "KHASs | HKAs | taxa | \n",
       "|---|---|---|---|---|---|---|\n",
       "| 42.97            | 24.51            | Bacteroides      | \n",
       "| 24.35            | 16.11            | Prevotella       | \n",
       "|  3.07            |  6.54            | Faecalibacterium | \n",
       "|  2.29            |  1.37            | Lachnospira      | \n",
       "|  1.28            |  1.59            | Parabacteroides  | \n",
       "|  1.19            |  1.40            | Dialister        | \n",
       "| 24.85            | 48.47            | Others           | \n",
       "\n",
       "\n"
      ],
      "text/plain": [
       "  KHASs HKAs  taxa            \n",
       "1 42.97 24.51 Bacteroides     \n",
       "2 24.35 16.11 Prevotella      \n",
       "3  3.07  6.54 Faecalibacterium\n",
       "4  2.29  1.37 Lachnospira     \n",
       "5  1.28  1.59 Parabacteroides \n",
       "6  1.19  1.40 Dialister       \n",
       "7 24.85 48.47 Others          "
      ]
     },
     "metadata": {},
     "output_type": "display_data"
    }
   ],
   "source": [
    "final$KHASs <- round(final$KHASs * 100,2)\n",
    "final$HKAs <-round(final$HKAs * 100,2)\n",
    "final"
   ]
  },
  {
   "cell_type": "code",
   "execution_count": 26,
   "metadata": {},
   "outputs": [
    {
     "data": {
      "text/html": [
       "<table>\n",
       "<thead><tr><th scope=col>KHASs</th><th scope=col>HKAs</th><th scope=col>Genus</th></tr></thead>\n",
       "<tbody>\n",
       "\t<tr><td>42.97           </td><td>24.51           </td><td>Bacteroides     </td></tr>\n",
       "\t<tr><td>24.35           </td><td>16.11           </td><td>Prevotella      </td></tr>\n",
       "\t<tr><td> 3.07           </td><td> 6.54           </td><td>Faecalibacterium</td></tr>\n",
       "\t<tr><td> 2.29           </td><td> 1.37           </td><td>Lachnospira     </td></tr>\n",
       "\t<tr><td> 1.28           </td><td> 1.59           </td><td>Parabacteroides </td></tr>\n",
       "\t<tr><td> 1.19           </td><td> 1.40           </td><td>Dialister       </td></tr>\n",
       "\t<tr><td>24.85           </td><td>48.47           </td><td>Others          </td></tr>\n",
       "</tbody>\n",
       "</table>\n"
      ],
      "text/latex": [
       "\\begin{tabular}{r|lll}\n",
       " KHASs & HKAs & Genus\\\\\n",
       "\\hline\n",
       "\t 42.97            & 24.51            & Bacteroides     \\\\\n",
       "\t 24.35            & 16.11            & Prevotella      \\\\\n",
       "\t  3.07            &  6.54            & Faecalibacterium\\\\\n",
       "\t  2.29            &  1.37            & Lachnospira     \\\\\n",
       "\t  1.28            &  1.59            & Parabacteroides \\\\\n",
       "\t  1.19            &  1.40            & Dialister       \\\\\n",
       "\t 24.85            & 48.47            & Others          \\\\\n",
       "\\end{tabular}\n"
      ],
      "text/markdown": [
       "\n",
       "KHASs | HKAs | Genus | \n",
       "|---|---|---|---|---|---|---|\n",
       "| 42.97            | 24.51            | Bacteroides      | \n",
       "| 24.35            | 16.11            | Prevotella       | \n",
       "|  3.07            |  6.54            | Faecalibacterium | \n",
       "|  2.29            |  1.37            | Lachnospira      | \n",
       "|  1.28            |  1.59            | Parabacteroides  | \n",
       "|  1.19            |  1.40            | Dialister        | \n",
       "| 24.85            | 48.47            | Others           | \n",
       "\n",
       "\n"
      ],
      "text/plain": [
       "  KHASs HKAs  Genus           \n",
       "1 42.97 24.51 Bacteroides     \n",
       "2 24.35 16.11 Prevotella      \n",
       "3  3.07  6.54 Faecalibacterium\n",
       "4  2.29  1.37 Lachnospira     \n",
       "5  1.28  1.59 Parabacteroides \n",
       "6  1.19  1.40 Dialister       \n",
       "7 24.85 48.47 Others          "
      ]
     },
     "metadata": {},
     "output_type": "display_data"
    }
   ],
   "source": [
    "final <- rename(final, \"Genus\"=taxa)\n",
    "final"
   ]
  },
  {
   "cell_type": "code",
   "execution_count": 27,
   "metadata": {},
   "outputs": [],
   "source": [
    "write_csv(final, \"otu-final.csv\")"
   ]
  },
  {
   "cell_type": "code",
   "execution_count": 28,
   "metadata": {},
   "outputs": [
    {
     "data": {
      "text/html": [
       "<table>\n",
       "<thead><tr><th scope=col>Genus</th><th scope=col>Sample</th><th scope=col>Proportion</th></tr></thead>\n",
       "<tbody>\n",
       "\t<tr><td>Bacteroides     </td><td>KHASs           </td><td>42.97           </td></tr>\n",
       "\t<tr><td>Prevotella      </td><td>KHASs           </td><td>24.35           </td></tr>\n",
       "\t<tr><td>Faecalibacterium</td><td>KHASs           </td><td> 3.07           </td></tr>\n",
       "\t<tr><td>Lachnospira     </td><td>KHASs           </td><td> 2.29           </td></tr>\n",
       "\t<tr><td>Parabacteroides </td><td>KHASs           </td><td> 1.28           </td></tr>\n",
       "\t<tr><td>Dialister       </td><td>KHASs           </td><td> 1.19           </td></tr>\n",
       "</tbody>\n",
       "</table>\n"
      ],
      "text/latex": [
       "\\begin{tabular}{r|lll}\n",
       " Genus & Sample & Proportion\\\\\n",
       "\\hline\n",
       "\t Bacteroides      & KHASs            & 42.97           \\\\\n",
       "\t Prevotella       & KHASs            & 24.35           \\\\\n",
       "\t Faecalibacterium & KHASs            &  3.07           \\\\\n",
       "\t Lachnospira      & KHASs            &  2.29           \\\\\n",
       "\t Parabacteroides  & KHASs            &  1.28           \\\\\n",
       "\t Dialister        & KHASs            &  1.19           \\\\\n",
       "\\end{tabular}\n"
      ],
      "text/markdown": [
       "\n",
       "Genus | Sample | Proportion | \n",
       "|---|---|---|---|---|---|\n",
       "| Bacteroides      | KHASs            | 42.97            | \n",
       "| Prevotella       | KHASs            | 24.35            | \n",
       "| Faecalibacterium | KHASs            |  3.07            | \n",
       "| Lachnospira      | KHASs            |  2.29            | \n",
       "| Parabacteroides  | KHASs            |  1.28            | \n",
       "| Dialister        | KHASs            |  1.19            | \n",
       "\n",
       "\n"
      ],
      "text/plain": [
       "  Genus            Sample Proportion\n",
       "1 Bacteroides      KHASs  42.97     \n",
       "2 Prevotella       KHASs  24.35     \n",
       "3 Faecalibacterium KHASs   3.07     \n",
       "4 Lachnospira      KHASs   2.29     \n",
       "5 Parabacteroides  KHASs   1.28     \n",
       "6 Dialister        KHASs   1.19     "
      ]
     },
     "metadata": {},
     "output_type": "display_data"
    }
   ],
   "source": [
    "long <- gather(final, key = \"Sample\", value = \"Proportion\", -Genus)\n",
    "head(long)"
   ]
  },
  {
   "cell_type": "code",
   "execution_count": 47,
   "metadata": {},
   "outputs": [
    {
     "data": {},
     "metadata": {},
     "output_type": "display_data"
    },
    {
     "data": {
      "image/png": "[encoded data removed]",
      "text/plain": [
       "plot without title"
      ]
     },
     "metadata": {},
     "output_type": "display_data"
    }
   ],
   "source": [
    "p <- ggplot(long) + geom_bar(aes(x=Sample, y=Proportion, fill=Genus), stat = \"identity\")+ theme_light() +\n",
    " ylab(\"Proportion (%)\")  + theme(axis.title.y=element_text(size=15), axis.title.x=element_text(size=15)) +\n",
    "theme(axis.text.y=element_text(size=20)) + theme(legend.text=element_text(size=15)) +theme(legend.title=element_text(size=15))\n",
    "p\n"
   ]
  },
  {
   "cell_type": "code",
   "execution_count": 50,
   "metadata": {},
   "outputs": [],
   "source": [
    "ggsave(paste0(\"KAHSs-vs-HKAs-genus-plot\",'.tiff'),p, width=12, height=10, units=\"cm\", dpi = 900)"
   ]
  },
  {
   "cell_type": "code",
   "execution_count": 51,
   "metadata": {},
   "outputs": [
    {
     "data": {
      "text/html": [
       "<table>\n",
       "<thead><tr><th></th><th scope=col>KAHSs</th><th scope=col>HKAs</th></tr></thead>\n",
       "<tbody>\n",
       "\t<tr><th scope=row>k__Archaea;p__Euryarchaeota</th><td>0.00000000  </td><td>3.696640e-04</td></tr>\n",
       "\t<tr><th scope=row>k__Bacteria;p__Acidobacteria</th><td>0.00000000  </td><td>2.659454e-07</td></tr>\n",
       "\t<tr><th scope=row>k__Bacteria;p__Actinobacteria</th><td>0.00115989  </td><td>1.653505e-02</td></tr>\n",
       "\t<tr><th scope=row>k__Bacteria;p__BHI80-139</th><td>0.00000000  </td><td>5.318907e-08</td></tr>\n",
       "\t<tr><th scope=row>k__Bacteria;p__Bacteroidetes</th><td>0.72193357  </td><td>4.701183e-01</td></tr>\n",
       "\t<tr><th scope=row>k__Bacteria;p__Caldiserica</th><td>0.00000000  </td><td>0.000000e+00</td></tr>\n",
       "</tbody>\n",
       "</table>\n"
      ],
      "text/latex": [
       "\\begin{tabular}{r|ll}\n",
       "  & KAHSs & HKAs\\\\\n",
       "\\hline\n",
       "\tk\\_\\_Archaea;p\\_\\_Euryarchaeota & 0.00000000   & 3.696640e-04\\\\\n",
       "\tk\\_\\_Bacteria;p\\_\\_Acidobacteria & 0.00000000   & 2.659454e-07\\\\\n",
       "\tk\\_\\_Bacteria;p\\_\\_Actinobacteria & 0.00115989   & 1.653505e-02\\\\\n",
       "\tk\\_\\_Bacteria;p\\_\\_BHI80-139 & 0.00000000   & 5.318907e-08\\\\\n",
       "\tk\\_\\_Bacteria;p\\_\\_Bacteroidetes & 0.72193357   & 4.701183e-01\\\\\n",
       "\tk\\_\\_Bacteria;p\\_\\_Caldiserica & 0.00000000   & 0.000000e+00\\\\\n",
       "\\end{tabular}\n"
      ],
      "text/markdown": [
       "\n",
       "| <!--/--> | KAHSs | HKAs | \n",
       "|---|---|---|---|---|---|\n",
       "| k__Archaea;p__Euryarchaeota | 0.00000000   | 3.696640e-04 | \n",
       "| k__Bacteria;p__Acidobacteria | 0.00000000   | 2.659454e-07 | \n",
       "| k__Bacteria;p__Actinobacteria | 0.00115989   | 1.653505e-02 | \n",
       "| k__Bacteria;p__BHI80-139 | 0.00000000   | 5.318907e-08 | \n",
       "| k__Bacteria;p__Bacteroidetes | 0.72193357   | 4.701183e-01 | \n",
       "| k__Bacteria;p__Caldiserica | 0.00000000   | 0.000000e+00 | \n",
       "\n",
       "\n"
      ],
      "text/plain": [
       "                              KAHSs      HKAs        \n",
       "k__Archaea;p__Euryarchaeota   0.00000000 3.696640e-04\n",
       "k__Bacteria;p__Acidobacteria  0.00000000 2.659454e-07\n",
       "k__Bacteria;p__Actinobacteria 0.00115989 1.653505e-02\n",
       "k__Bacteria;p__BHI80-139      0.00000000 5.318907e-08\n",
       "k__Bacteria;p__Bacteroidetes  0.72193357 4.701183e-01\n",
       "k__Bacteria;p__Caldiserica    0.00000000 0.000000e+00"
      ]
     },
     "metadata": {},
     "output_type": "display_data"
    }
   ],
   "source": [
    "taxa <- read.delim(\"Description_otu_table_L2.txt\", sep='\\t', row=1)\n",
    "head(taxa)\n"
   ]
  },
  {
   "cell_type": "code",
   "execution_count": 52,
   "metadata": {},
   "outputs": [
    {
     "data": {
      "text/html": [
       "<table>\n",
       "<thead><tr><th></th><th scope=col>KAHSs</th><th scope=col>HKAs</th></tr></thead>\n",
       "<tbody>\n",
       "\t<tr><th scope=row>k__Bacteria;p__Bacteroidetes</th><td>7.219336e-01</td><td>4.701183e-01</td></tr>\n",
       "\t<tr><th scope=row>k__Bacteria;p__Firmicutes</th><td>1.882570e-01</td><td>4.626799e-01</td></tr>\n",
       "\t<tr><th scope=row>k__Bacteria;p__Proteobacteria</th><td>8.207149e-02</td><td>3.897036e-02</td></tr>\n",
       "\t<tr><th scope=row>k__Bacteria;p__Actinobacteria</th><td>1.159890e-03</td><td>1.653505e-02</td></tr>\n",
       "\t<tr><th scope=row>k__Bacteria;p__Verrucomicrobia</th><td>4.125819e-03</td><td>4.867066e-03</td></tr>\n",
       "\t<tr><th scope=row>k__Bacteria;p__Fusobacteria</th><td>1.853706e-03</td><td>2.994119e-03</td></tr>\n",
       "\t<tr><th scope=row>k__Bacteria;p__Tenericutes</th><td>5.349265e-04</td><td>2.187720e-03</td></tr>\n",
       "\t<tr><th scope=row>k__Bacteria;p__Cyanobacteria</th><td>5.296302e-06</td><td>7.479979e-04</td></tr>\n",
       "\t<tr><th scope=row>k__Archaea;p__Euryarchaeota</th><td>0.000000e+00</td><td>3.696640e-04</td></tr>\n",
       "\t<tr><th scope=row>k__Bacteria;p__Synergistetes</th><td>5.296302e-06</td><td>1.913743e-04</td></tr>\n",
       "\t<tr><th scope=row>k__Bacteria;p__Spirochaetes</th><td>3.707411e-05</td><td>9.504887e-05</td></tr>\n",
       "\t<tr><th scope=row>k__Bacteria;p__Elusimicrobia</th><td>0.000000e+00</td><td>1.218030e-04</td></tr>\n",
       "\t<tr><th scope=row>k__Bacteria;p__Lentisphaerae</th><td>1.588890e-05</td><td>7.701777e-05</td></tr>\n",
       "\t<tr><th scope=row>k__Bacteria;p__TM7</th><td>0.000000e+00</td><td>4.042369e-05</td></tr>\n",
       "\t<tr><th scope=row>k__Bacteria;p__Chloroflexi</th><td>0.000000e+00</td><td>1.702050e-06</td></tr>\n",
       "\t<tr><th scope=row>k__Bacteria;p__OP9</th><td>0.000000e+00</td><td>1.223349e-06</td></tr>\n",
       "\t<tr><th scope=row>k__Bacteria;p__Acidobacteria</th><td>0.000000e+00</td><td>2.659454e-07</td></tr>\n",
       "\t<tr><th scope=row>k__Bacteria;p__Gemmatimonadetes</th><td>0.000000e+00</td><td>2.127563e-07</td></tr>\n",
       "\t<tr><th scope=row>k__Bacteria;p__SBR1093</th><td>0.000000e+00</td><td>2.127563e-07</td></tr>\n",
       "\t<tr><th scope=row>k__Bacteria;p__SAR406</th><td>0.000000e+00</td><td>1.595672e-07</td></tr>\n",
       "\t<tr><th scope=row>k__Bacteria;p__Chlorobi</th><td>0.000000e+00</td><td>1.063781e-07</td></tr>\n",
       "\t<tr><th scope=row>k__Bacteria;p__WS3</th><td>0.000000e+00</td><td>1.063781e-07</td></tr>\n",
       "\t<tr><th scope=row>k__Bacteria;p__BHI80-139</th><td>0.000000e+00</td><td>5.318907e-08</td></tr>\n",
       "\t<tr><th scope=row>k__Bacteria;p__GN02</th><td>0.000000e+00</td><td>5.318907e-08</td></tr>\n",
       "\t<tr><th scope=row>k__Bacteria;p__OP11</th><td>0.000000e+00</td><td>5.318907e-08</td></tr>\n",
       "\t<tr><th scope=row>k__Bacteria;p__OP8</th><td>0.000000e+00</td><td>5.318907e-08</td></tr>\n",
       "\t<tr><th scope=row>k__Bacteria;p__Caldiserica</th><td>0.000000e+00</td><td>0.000000e+00</td></tr>\n",
       "</tbody>\n",
       "</table>\n"
      ],
      "text/latex": [
       "\\begin{tabular}{r|ll}\n",
       "  & KAHSs & HKAs\\\\\n",
       "\\hline\n",
       "\tk\\_\\_Bacteria;p\\_\\_Bacteroidetes & 7.219336e-01 & 4.701183e-01\\\\\n",
       "\tk\\_\\_Bacteria;p\\_\\_Firmicutes & 1.882570e-01 & 4.626799e-01\\\\\n",
       "\tk\\_\\_Bacteria;p\\_\\_Proteobacteria & 8.207149e-02 & 3.897036e-02\\\\\n",
       "\tk\\_\\_Bacteria;p\\_\\_Actinobacteria & 1.159890e-03 & 1.653505e-02\\\\\n",
       "\tk\\_\\_Bacteria;p\\_\\_Verrucomicrobia & 4.125819e-03 & 4.867066e-03\\\\\n",
       "\tk\\_\\_Bacteria;p\\_\\_Fusobacteria & 1.853706e-03 & 2.994119e-03\\\\\n",
       "\tk\\_\\_Bacteria;p\\_\\_Tenericutes & 5.349265e-04 & 2.187720e-03\\\\\n",
       "\tk\\_\\_Bacteria;p\\_\\_Cyanobacteria & 5.296302e-06 & 7.479979e-04\\\\\n",
       "\tk\\_\\_Archaea;p\\_\\_Euryarchaeota & 0.000000e+00 & 3.696640e-04\\\\\n",
       "\tk\\_\\_Bacteria;p\\_\\_Synergistetes & 5.296302e-06 & 1.913743e-04\\\\\n",
       "\tk\\_\\_Bacteria;p\\_\\_Spirochaetes & 3.707411e-05 & 9.504887e-05\\\\\n",
       "\tk\\_\\_Bacteria;p\\_\\_Elusimicrobia & 0.000000e+00 & 1.218030e-04\\\\\n",
       "\tk\\_\\_Bacteria;p\\_\\_Lentisphaerae & 1.588890e-05 & 7.701777e-05\\\\\n",
       "\tk\\_\\_Bacteria;p\\_\\_TM7 & 0.000000e+00 & 4.042369e-05\\\\\n",
       "\tk\\_\\_Bacteria;p\\_\\_Chloroflexi & 0.000000e+00 & 1.702050e-06\\\\\n",
       "\tk\\_\\_Bacteria;p\\_\\_OP9 & 0.000000e+00 & 1.223349e-06\\\\\n",
       "\tk\\_\\_Bacteria;p\\_\\_Acidobacteria & 0.000000e+00 & 2.659454e-07\\\\\n",
       "\tk\\_\\_Bacteria;p\\_\\_Gemmatimonadetes & 0.000000e+00 & 2.127563e-07\\\\\n",
       "\tk\\_\\_Bacteria;p\\_\\_SBR1093 & 0.000000e+00 & 2.127563e-07\\\\\n",
       "\tk\\_\\_Bacteria;p\\_\\_SAR406 & 0.000000e+00 & 1.595672e-07\\\\\n",
       "\tk\\_\\_Bacteria;p\\_\\_Chlorobi & 0.000000e+00 & 1.063781e-07\\\\\n",
       "\tk\\_\\_Bacteria;p\\_\\_WS3 & 0.000000e+00 & 1.063781e-07\\\\\n",
       "\tk\\_\\_Bacteria;p\\_\\_BHI80-139 & 0.000000e+00 & 5.318907e-08\\\\\n",
       "\tk\\_\\_Bacteria;p\\_\\_GN02 & 0.000000e+00 & 5.318907e-08\\\\\n",
       "\tk\\_\\_Bacteria;p\\_\\_OP11 & 0.000000e+00 & 5.318907e-08\\\\\n",
       "\tk\\_\\_Bacteria;p\\_\\_OP8 & 0.000000e+00 & 5.318907e-08\\\\\n",
       "\tk\\_\\_Bacteria;p\\_\\_Caldiserica & 0.000000e+00 & 0.000000e+00\\\\\n",
       "\\end{tabular}\n"
      ],
      "text/markdown": [
       "\n",
       "| <!--/--> | KAHSs | HKAs | \n",
       "|---|---|---|---|---|---|---|---|---|---|---|---|---|---|---|---|---|---|---|---|---|---|---|---|---|---|---|\n",
       "| k__Bacteria;p__Bacteroidetes | 7.219336e-01 | 4.701183e-01 | \n",
       "| k__Bacteria;p__Firmicutes | 1.882570e-01 | 4.626799e-01 | \n",
       "| k__Bacteria;p__Proteobacteria | 8.207149e-02 | 3.897036e-02 | \n",
       "| k__Bacteria;p__Actinobacteria | 1.159890e-03 | 1.653505e-02 | \n",
       "| k__Bacteria;p__Verrucomicrobia | 4.125819e-03 | 4.867066e-03 | \n",
       "| k__Bacteria;p__Fusobacteria | 1.853706e-03 | 2.994119e-03 | \n",
       "| k__Bacteria;p__Tenericutes | 5.349265e-04 | 2.187720e-03 | \n",
       "| k__Bacteria;p__Cyanobacteria | 5.296302e-06 | 7.479979e-04 | \n",
       "| k__Archaea;p__Euryarchaeota | 0.000000e+00 | 3.696640e-04 | \n",
       "| k__Bacteria;p__Synergistetes | 5.296302e-06 | 1.913743e-04 | \n",
       "| k__Bacteria;p__Spirochaetes | 3.707411e-05 | 9.504887e-05 | \n",
       "| k__Bacteria;p__Elusimicrobia | 0.000000e+00 | 1.218030e-04 | \n",
       "| k__Bacteria;p__Lentisphaerae | 1.588890e-05 | 7.701777e-05 | \n",
       "| k__Bacteria;p__TM7 | 0.000000e+00 | 4.042369e-05 | \n",
       "| k__Bacteria;p__Chloroflexi | 0.000000e+00 | 1.702050e-06 | \n",
       "| k__Bacteria;p__OP9 | 0.000000e+00 | 1.223349e-06 | \n",
       "| k__Bacteria;p__Acidobacteria | 0.000000e+00 | 2.659454e-07 | \n",
       "| k__Bacteria;p__Gemmatimonadetes | 0.000000e+00 | 2.127563e-07 | \n",
       "| k__Bacteria;p__SBR1093 | 0.000000e+00 | 2.127563e-07 | \n",
       "| k__Bacteria;p__SAR406 | 0.000000e+00 | 1.595672e-07 | \n",
       "| k__Bacteria;p__Chlorobi | 0.000000e+00 | 1.063781e-07 | \n",
       "| k__Bacteria;p__WS3 | 0.000000e+00 | 1.063781e-07 | \n",
       "| k__Bacteria;p__BHI80-139 | 0.000000e+00 | 5.318907e-08 | \n",
       "| k__Bacteria;p__GN02 | 0.000000e+00 | 5.318907e-08 | \n",
       "| k__Bacteria;p__OP11 | 0.000000e+00 | 5.318907e-08 | \n",
       "| k__Bacteria;p__OP8 | 0.000000e+00 | 5.318907e-08 | \n",
       "| k__Bacteria;p__Caldiserica | 0.000000e+00 | 0.000000e+00 | \n",
       "\n",
       "\n"
      ],
      "text/plain": [
       "                                KAHSs        HKAs        \n",
       "k__Bacteria;p__Bacteroidetes    7.219336e-01 4.701183e-01\n",
       "k__Bacteria;p__Firmicutes       1.882570e-01 4.626799e-01\n",
       "k__Bacteria;p__Proteobacteria   8.207149e-02 3.897036e-02\n",
       "k__Bacteria;p__Actinobacteria   1.159890e-03 1.653505e-02\n",
       "k__Bacteria;p__Verrucomicrobia  4.125819e-03 4.867066e-03\n",
       "k__Bacteria;p__Fusobacteria     1.853706e-03 2.994119e-03\n",
       "k__Bacteria;p__Tenericutes      5.349265e-04 2.187720e-03\n",
       "k__Bacteria;p__Cyanobacteria    5.296302e-06 7.479979e-04\n",
       "k__Archaea;p__Euryarchaeota     0.000000e+00 3.696640e-04\n",
       "k__Bacteria;p__Synergistetes    5.296302e-06 1.913743e-04\n",
       "k__Bacteria;p__Spirochaetes     3.707411e-05 9.504887e-05\n",
       "k__Bacteria;p__Elusimicrobia    0.000000e+00 1.218030e-04\n",
       "k__Bacteria;p__Lentisphaerae    1.588890e-05 7.701777e-05\n",
       "k__Bacteria;p__TM7              0.000000e+00 4.042369e-05\n",
       "k__Bacteria;p__Chloroflexi      0.000000e+00 1.702050e-06\n",
       "k__Bacteria;p__OP9              0.000000e+00 1.223349e-06\n",
       "k__Bacteria;p__Acidobacteria    0.000000e+00 2.659454e-07\n",
       "k__Bacteria;p__Gemmatimonadetes 0.000000e+00 2.127563e-07\n",
       "k__Bacteria;p__SBR1093          0.000000e+00 2.127563e-07\n",
       "k__Bacteria;p__SAR406           0.000000e+00 1.595672e-07\n",
       "k__Bacteria;p__Chlorobi         0.000000e+00 1.063781e-07\n",
       "k__Bacteria;p__WS3              0.000000e+00 1.063781e-07\n",
       "k__Bacteria;p__BHI80-139        0.000000e+00 5.318907e-08\n",
       "k__Bacteria;p__GN02             0.000000e+00 5.318907e-08\n",
       "k__Bacteria;p__OP11             0.000000e+00 5.318907e-08\n",
       "k__Bacteria;p__OP8              0.000000e+00 5.318907e-08\n",
       "k__Bacteria;p__Caldiserica      0.000000e+00 0.000000e+00"
      ]
     },
     "metadata": {},
     "output_type": "display_data"
    }
   ],
   "source": [
    "taxaStrings <- sapply(split,function(x) paste(x[1:2],collapse=\";\"))\n",
    "ptaxa <- taxa\n",
    "splitg <- strsplit(rownames(ptaxa),\";\")                               # Split and rejoin on lv7\n",
    "ptaxaStrings <- sapply(splitg,function(x) paste(x[1:2],collapse=\";\")) # level 7 is species, 8 is strain\n",
    "ptaxa <- rowsum(ptaxa,ptaxaStrings)                                    # Collapse by taxonomy name\n",
    "ptaxa <- sweep(ptaxa,2,colSums(ptaxa),'/')\n",
    "ptaxa <- ptaxa[order(rowMeans(ptaxa),decreasing=T),]\n",
    "ptaxa"
   ]
  },
  {
   "cell_type": "code",
   "execution_count": 53,
   "metadata": {},
   "outputs": [
    {
     "data": {
      "text/html": [
       "<table>\n",
       "<thead><tr><th></th><th scope=col>Bacteroidetes</th><th scope=col>Firmicutes</th><th scope=col>Proteobacteria</th></tr></thead>\n",
       "<tbody>\n",
       "\t<tr><th scope=row>KAHSs</th><td>0.7219336 </td><td>0.1882570 </td><td>0.08207149</td></tr>\n",
       "\t<tr><th scope=row>HKAs</th><td>0.4701183 </td><td>0.4626799 </td><td>0.03897036</td></tr>\n",
       "</tbody>\n",
       "</table>\n"
      ],
      "text/latex": [
       "\\begin{tabular}{r|lll}\n",
       "  & Bacteroidetes & Firmicutes & Proteobacteria\\\\\n",
       "\\hline\n",
       "\tKAHSs & 0.7219336  & 0.1882570  & 0.08207149\\\\\n",
       "\tHKAs & 0.4701183  & 0.4626799  & 0.03897036\\\\\n",
       "\\end{tabular}\n"
      ],
      "text/markdown": [
       "\n",
       "| <!--/--> | Bacteroidetes | Firmicutes | Proteobacteria | \n",
       "|---|---|\n",
       "| KAHSs | 0.7219336  | 0.1882570  | 0.08207149 | \n",
       "| HKAs | 0.4701183  | 0.4626799  | 0.03897036 | \n",
       "\n",
       "\n"
      ],
      "text/plain": [
       "      Bacteroidetes Firmicutes Proteobacteria\n",
       "KAHSs 0.7219336     0.1882570  0.08207149    \n",
       "HKAs  0.4701183     0.4626799  0.03897036    "
      ]
     },
     "metadata": {},
     "output_type": "display_data"
    }
   ],
   "source": [
    "p.filtered.taxa <- ptaxa * 100\n",
    "etc.p <- ptaxa[ptaxa$KAHSs >= 0.01 & ptaxa$HKAs >= 0.01,]\n",
    "#filtered.taxa <- gtaxa * 100\n",
    "#traspose to add to map for later use\n",
    "etc.p <- t(etc.p)\n",
    "colnames(etc.p) <- gsub(\".*;p__?\", \"\", colnames(etc.p))\n",
    "colnames(etc.p) <- gsub(\"_\", \"\", colnames(etc.p))\n",
    "colnames(etc.p) <- gsub(\";.*\",\"\",colnames(etc.p))\n",
    "\n",
    "head(etc.p)"
   ]
  },
  {
   "cell_type": "code",
   "execution_count": 54,
   "metadata": {},
   "outputs": [
    {
     "data": {
      "text/html": [
       "<table>\n",
       "<thead><tr><th></th><th scope=col>Bacteroidetes</th><th scope=col>Firmicutes</th><th scope=col>Proteobacteria</th><th scope=col>Others</th></tr></thead>\n",
       "<tbody>\n",
       "\t<tr><th scope=row>KAHSs</th><td>0.7219336  </td><td>0.1882570  </td><td>0.08207149 </td><td>0.007737897</td></tr>\n",
       "\t<tr><th scope=row>HKAs</th><td>0.4701183  </td><td>0.4626799  </td><td>0.03897036 </td><td>0.028231482</td></tr>\n",
       "</tbody>\n",
       "</table>\n"
      ],
      "text/latex": [
       "\\begin{tabular}{r|llll}\n",
       "  & Bacteroidetes & Firmicutes & Proteobacteria & Others\\\\\n",
       "\\hline\n",
       "\tKAHSs & 0.7219336   & 0.1882570   & 0.08207149  & 0.007737897\\\\\n",
       "\tHKAs & 0.4701183   & 0.4626799   & 0.03897036  & 0.028231482\\\\\n",
       "\\end{tabular}\n"
      ],
      "text/markdown": [
       "\n",
       "| <!--/--> | Bacteroidetes | Firmicutes | Proteobacteria | Others | \n",
       "|---|---|\n",
       "| KAHSs | 0.7219336   | 0.1882570   | 0.08207149  | 0.007737897 | \n",
       "| HKAs | 0.4701183   | 0.4626799   | 0.03897036  | 0.028231482 | \n",
       "\n",
       "\n"
      ],
      "text/plain": [
       "      Bacteroidetes Firmicutes Proteobacteria Others     \n",
       "KAHSs 0.7219336     0.1882570  0.08207149     0.007737897\n",
       "HKAs  0.4701183     0.4626799  0.03897036     0.028231482"
      ]
     },
     "metadata": {},
     "output_type": "display_data"
    }
   ],
   "source": [
    "etc.p <- as.data.frame(etc.p)\n",
    "etc.p$Others <-  1- rowSums(etc.p)\n",
    "etc.p"
   ]
  },
  {
   "cell_type": "code",
   "execution_count": 55,
   "metadata": {},
   "outputs": [
    {
     "data": {
      "text/html": [
       "<table>\n",
       "<thead><tr><th></th><th scope=col>Bacteroidetes</th><th scope=col>Firmicutes</th><th scope=col>Proteobacteria</th><th scope=col>Others</th><th scope=col>Sample</th></tr></thead>\n",
       "<tbody>\n",
       "\t<tr><th scope=row>KAHSs</th><td>0.7219336  </td><td>0.1882570  </td><td>0.08207149 </td><td>0.007737897</td><td>KAHSs      </td></tr>\n",
       "\t<tr><th scope=row>HKAs</th><td>0.4701183  </td><td>0.4626799  </td><td>0.03897036 </td><td>0.028231482</td><td>HKAs       </td></tr>\n",
       "</tbody>\n",
       "</table>\n"
      ],
      "text/latex": [
       "\\begin{tabular}{r|lllll}\n",
       "  & Bacteroidetes & Firmicutes & Proteobacteria & Others & Sample\\\\\n",
       "\\hline\n",
       "\tKAHSs & 0.7219336   & 0.1882570   & 0.08207149  & 0.007737897 & KAHSs      \\\\\n",
       "\tHKAs & 0.4701183   & 0.4626799   & 0.03897036  & 0.028231482 & HKAs       \\\\\n",
       "\\end{tabular}\n"
      ],
      "text/markdown": [
       "\n",
       "| <!--/--> | Bacteroidetes | Firmicutes | Proteobacteria | Others | Sample | \n",
       "|---|---|\n",
       "| KAHSs | 0.7219336   | 0.1882570   | 0.08207149  | 0.007737897 | KAHSs       | \n",
       "| HKAs | 0.4701183   | 0.4626799   | 0.03897036  | 0.028231482 | HKAs        | \n",
       "\n",
       "\n"
      ],
      "text/plain": [
       "      Bacteroidetes Firmicutes Proteobacteria Others      Sample\n",
       "KAHSs 0.7219336     0.1882570  0.08207149     0.007737897 KAHSs \n",
       "HKAs  0.4701183     0.4626799  0.03897036     0.028231482 HKAs  "
      ]
     },
     "metadata": {},
     "output_type": "display_data"
    }
   ],
   "source": [
    "rowname <- rownames(etc.p)\n",
    "etc.p$Sample <- rowname\n",
    "etc.p"
   ]
  },
  {
   "cell_type": "code",
   "execution_count": 56,
   "metadata": {},
   "outputs": [
    {
     "data": {
      "text/html": [
       "<table>\n",
       "<thead><tr><th scope=col>Sample</th><th scope=col>Phylum</th><th scope=col>Proportion</th></tr></thead>\n",
       "<tbody>\n",
       "\t<tr><td>KAHSs         </td><td>Bacteroidetes </td><td>72.19         </td></tr>\n",
       "\t<tr><td>HKAs          </td><td>Bacteroidetes </td><td>47.01         </td></tr>\n",
       "\t<tr><td>KAHSs         </td><td>Firmicutes    </td><td>18.83         </td></tr>\n",
       "\t<tr><td>HKAs          </td><td>Firmicutes    </td><td>46.27         </td></tr>\n",
       "\t<tr><td>KAHSs         </td><td>Proteobacteria</td><td> 8.21         </td></tr>\n",
       "\t<tr><td>HKAs          </td><td>Proteobacteria</td><td> 3.90         </td></tr>\n",
       "\t<tr><td>KAHSs         </td><td>Others        </td><td> 0.77         </td></tr>\n",
       "\t<tr><td>HKAs          </td><td>Others        </td><td> 2.82         </td></tr>\n",
       "</tbody>\n",
       "</table>\n"
      ],
      "text/latex": [
       "\\begin{tabular}{r|lll}\n",
       " Sample & Phylum & Proportion\\\\\n",
       "\\hline\n",
       "\t KAHSs          & Bacteroidetes  & 72.19         \\\\\n",
       "\t HKAs           & Bacteroidetes  & 47.01         \\\\\n",
       "\t KAHSs          & Firmicutes     & 18.83         \\\\\n",
       "\t HKAs           & Firmicutes     & 46.27         \\\\\n",
       "\t KAHSs          & Proteobacteria &  8.21         \\\\\n",
       "\t HKAs           & Proteobacteria &  3.90         \\\\\n",
       "\t KAHSs          & Others         &  0.77         \\\\\n",
       "\t HKAs           & Others         &  2.82         \\\\\n",
       "\\end{tabular}\n"
      ],
      "text/markdown": [
       "\n",
       "Sample | Phylum | Proportion | \n",
       "|---|---|---|---|---|---|---|---|\n",
       "| KAHSs          | Bacteroidetes  | 72.19          | \n",
       "| HKAs           | Bacteroidetes  | 47.01          | \n",
       "| KAHSs          | Firmicutes     | 18.83          | \n",
       "| HKAs           | Firmicutes     | 46.27          | \n",
       "| KAHSs          | Proteobacteria |  8.21          | \n",
       "| HKAs           | Proteobacteria |  3.90          | \n",
       "| KAHSs          | Others         |  0.77          | \n",
       "| HKAs           | Others         |  2.82          | \n",
       "\n",
       "\n"
      ],
      "text/plain": [
       "  Sample Phylum         Proportion\n",
       "1 KAHSs  Bacteroidetes  72.19     \n",
       "2 HKAs   Bacteroidetes  47.01     \n",
       "3 KAHSs  Firmicutes     18.83     \n",
       "4 HKAs   Firmicutes     46.27     \n",
       "5 KAHSs  Proteobacteria  8.21     \n",
       "6 HKAs   Proteobacteria  3.90     \n",
       "7 KAHSs  Others          0.77     \n",
       "8 HKAs   Others          2.82     "
      ]
     },
     "metadata": {},
     "output_type": "display_data"
    }
   ],
   "source": [
    "df.p <- gather(etc.p,\"Phylum\", \"Proportion\", -Sample)\n",
    "df.p$Proportion <- round(df.p$Proportion * 100,2)\n",
    "df.p"
   ]
  },
  {
   "cell_type": "code",
   "execution_count": 57,
   "metadata": {},
   "outputs": [
    {
     "data": {},
     "metadata": {},
     "output_type": "display_data"
    },
    {
     "data": {
      "image/png": "[encoded data removed]",
      "text/plain": [
       "plot without title"
      ]
     },
     "metadata": {},
     "output_type": "display_data"
    }
   ],
   "source": [
    "p <- ggplot(df.p) + geom_bar(aes(x=Sample, y=Proportion, fill=Phylum), stat = \"identity\") + theme_light() +\n",
    " ylab(\"Proportion (%)\")  + theme(axis.title.y=element_text(size=15), axis.title.x=element_text(size=15)) +\n",
    "theme(text=element_text(size=15)) + scale_fill_brewer(palette=\"Set3\") +\n",
    "theme(axis.text.y=element_text(size=20)) + theme(legend.text=element_text(size=15)) +theme(legend.title=element_text(size=15))\n",
    "p "
   ]
  },
  {
   "cell_type": "code",
   "execution_count": 59,
   "metadata": {},
   "outputs": [],
   "source": [
    "ggsave(paste0(\"HKAs-vs-KAHSs-phylum-plot\",'.tiff'), width=12, height=10, units=\"cm\", dpi = 900)"
   ]
  },
  {
   "cell_type": "code",
   "execution_count": null,
   "metadata": {},
   "outputs": [],
   "source": []
  }
 ],
 "metadata": {
  "kernelspec": {
   "display_name": "R",
   "language": "R",
   "name": "ir"
  },
  "language_info": {
   "codemirror_mode": "r",
   "file_extension": ".r",
   "mimetype": "text/x-r-source",
   "name": "R",
   "pygments_lexer": "r",
   "version": "3.4.3"
  }
 },
 "nbformat": 4,
 "nbformat_minor": 2
}
